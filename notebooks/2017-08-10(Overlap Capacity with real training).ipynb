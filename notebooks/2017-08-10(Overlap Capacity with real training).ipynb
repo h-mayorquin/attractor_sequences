{
 "cells": [
  {
   "cell_type": "markdown",
   "metadata": {},
   "source": [
    "# Overlap capacity with real training\n",
    "Basically a notebook to do capacity calulations with the real training. "
   ]
  },
  {
   "cell_type": "code",
   "execution_count": 1,
   "metadata": {
    "collapsed": true
   },
   "outputs": [],
   "source": [
    "import pprint\n",
    "import subprocess\n",
    "import sys \n",
    "sys.path.append('../')\n",
    "\n",
    "import numpy as np\n",
    "import matplotlib.pyplot as plt\n",
    "import matplotlib\n",
    "import matplotlib.gridspec as gridspec\n",
    "from mpl_toolkits.axes_grid1 import make_axes_locatable\n",
    "import seaborn as sns\n",
    "\n",
    "%matplotlib inline\n",
    "\n",
    "np.set_printoptions(suppress=True, precision=2)\n",
    "\n",
    "sns.set(font_scale=2.0)"
   ]
  },
  {
   "cell_type": "markdown",
   "metadata": {},
   "source": [
    "#### Git machinery"
   ]
  },
  {
   "cell_type": "code",
   "execution_count": 2,
   "metadata": {
    "collapsed": true
   },
   "outputs": [],
   "source": [
    "run_old_version = False\n",
    "if run_old_version:\n",
    "    hash_when_file_was_written = '95c0ca0cdca3f00e55f0e46dd9a8b8c1f492d94e'\n",
    "    hash_at_the_moment = subprocess.check_output([\"git\", 'rev-parse', 'HEAD']).strip()\n",
    "    print('Actual hash', hash_at_the_moment)\n",
    "    \n",
    "    print('Hash of the commit used to run the simulation', hash_when_file_was_written)\n",
    "    subprocess.call(['git', 'checkout', hash_when_file_was_written])"
   ]
  },
  {
   "cell_type": "code",
   "execution_count": 3,
   "metadata": {
    "collapsed": true
   },
   "outputs": [],
   "source": [
    "from network import Protocol, BCPNNFast, NetworkManager\n",
    "from analysis_functions import calculate_recall_success_sequences\n",
    "from connectivity_functions import create_artificial_manager "
   ]
  },
  {
   "cell_type": "markdown",
   "metadata": {},
   "source": [
    "## Calculations"
   ]
  },
  {
   "cell_type": "markdown",
   "metadata": {},
   "source": [
    "#### Tau_z"
   ]
  },
  {
   "cell_type": "code",
   "execution_count": 4,
   "metadata": {
    "collapsed": true
   },
   "outputs": [],
   "source": [
    "# Patterns parameters\n",
    "hypercolumns = 4\n",
    "minicolumns = 50\n",
    "\n",
    "dt = 0.001\n",
    "\n",
    "values_to_save = ['o']\n",
    "\n",
    "# Recall\n",
    "n = 10\n",
    "T_cue = 0.100\n",
    "T_recall = 10.0\n",
    "\n",
    "# Protocol\n",
    "training_time = 0.1\n",
    "inter_sequence_interval = 1.0\n",
    "inter_pulse_interval = 0.0\n",
    "epochs = 3\n",
    "\n",
    "# Build the network\n",
    "tau_z_pre = 0.150\n",
    "nn = BCPNNFast(hypercolumns, minicolumns, tau_z_pre=tau_z_pre)\n",
    "\n",
    "\n",
    "# Build the manager\n",
    "manager = NetworkManager(nn=nn, dt=dt, values_to_save=values_to_save)\n",
    "\n",
    "# Build the protocol for training\n",
    "overlap = 3\n",
    "number_of_sequences = 2\n",
    "half_width = 4\n",
    "units_to_overload = [i for i in range(overlap)]\n",
    "\n",
    "overlap_vector = np.arange(1, 10, 1, dtype=int)\n",
    "tau_z_pre_vector = np.arange(0.050, 1.050, 0.050)\n",
    "total_success_tau_z = np.zeros((overlap_vector.size, tau_z_pre_vector.size))"
   ]
  },
  {
   "cell_type": "code",
   "execution_count": 5,
   "metadata": {
    "collapsed": false
   },
   "outputs": [
    {
     "name": "stdout",
     "output_type": "stream",
     "text": [
      "('overlap, index', 0)\n",
      "('overlap, index', 1)\n",
      "('overlap, index', 2)\n",
      "('overlap, index', 3)\n",
      "('overlap, index', 4)\n",
      "('overlap, index', 5)\n",
      "('overlap, index', 6)\n",
      "('overlap, index', 7)\n",
      "('overlap, index', 8)\n"
     ]
    }
   ],
   "source": [
    "for overlap_index, overlap in enumerate(overlap_vector):\n",
    "    print('overlap, index', overlap_index)\n",
    "    for tau_z_pre_index, tau_z_pre in enumerate(tau_z_pre_vector):\n",
    "\n",
    "        protocol = Protocol()\n",
    "        units_to_overload = [i for i in range(overlap)]\n",
    "        sequences = protocol.create_overload_chain(number_of_sequences, half_width, units_to_overload)\n",
    "        protocol.cross_protocol(sequences, training_time=training_time,\n",
    "                                inter_sequence_interval=inter_sequence_interval, epochs=epochs)\n",
    "\n",
    "        # Train\n",
    "        manager.run_network_protocol(protocol=protocol, verbose=False)\n",
    "\n",
    "        successes = calculate_recall_success_sequences(manager, T_recall=T_recall, T_cue=T_cue, n=n, sequences=sequences)\n",
    "        total_success_tau_z[overlap_index, tau_z_pre_index] = np.mean(successes)"
   ]
  },
  {
   "cell_type": "code",
   "execution_count": 6,
   "metadata": {
    "collapsed": false
   },
   "outputs": [
    {
     "data": {
      "image/png": "[encoded data removed]",
      "text/plain": [
       "<matplotlib.figure.Figure at 0x7fd5f0e21a90>"
      ]
     },
     "metadata": {},
     "output_type": "display_data"
    }
   ],
   "source": [
    "fig = plt.figure(figsize=(16, 12))\n",
    "ax = fig.add_subplot(111)\n",
    "cmap = 'inferno'\n",
    "\n",
    "extent = [tau_z_pre_vector[0], tau_z_pre_vector[-1], overlap_vector[0], overlap_vector[-1]]\n",
    "im = ax.imshow(total_success_tau_z, origin='lower', cmap=cmap, interpolation='None', extent=extent, aspect='auto')\n",
    "\n",
    "ax.set_xlabel('Tau_z')\n",
    "ax.set_ylabel('Overlap')\n",
    "\n",
    "divider1 = make_axes_locatable(ax)\n",
    "cax1 = divider1.append_axes('right', size='5%', pad=0.05)\n",
    "fig.colorbar(im, cax=cax1, orientation='vertical');"
   ]
  },
  {
   "cell_type": "markdown",
   "metadata": {},
   "source": [
    "#### Let's save the data"
   ]
  },
  {
   "cell_type": "code",
   "execution_count": null,
   "metadata": {
    "collapsed": true
   },
   "outputs": [],
   "source": []
  },
  {
   "cell_type": "code",
   "execution_count": null,
   "metadata": {
    "collapsed": true
   },
   "outputs": [],
   "source": []
  },
  {
   "cell_type": "markdown",
   "metadata": {},
   "source": [
    "#### Cut through one axis"
   ]
  },
  {
   "cell_type": "code",
   "execution_count": null,
   "metadata": {
    "collapsed": true
   },
   "outputs": [],
   "source": [
    "# Patterns parameters\n",
    "hypercolumns = 4\n",
    "minicolumns = 50\n",
    "\n",
    "dt = 0.001\n",
    "\n",
    "values_to_save = ['o']\n",
    "\n",
    "# Recall\n",
    "n = 10\n",
    "T_cue = 0.100\n",
    "T_recall = 10.0\n",
    "\n",
    "# Protocol\n",
    "training_time = 0.1\n",
    "inter_sequence_interval = 1.0\n",
    "inter_pulse_interval = 0.0\n",
    "epochs = 3\n",
    "\n",
    "# Build the network\n",
    "tau_z_pre = 0.150\n",
    "nn = BCPNNFast(hypercolumns, minicolumns, tau_z_pre=tau_z_pre)\n",
    "\n",
    "# Build the manager\n",
    "manager = NetworkManager(nn=nn, dt=dt, values_to_save=values_to_save)\n",
    "\n",
    "# Build the protocol for training\n",
    "overlap = 3\n",
    "number_of_sequences = 2\n",
    "half_width = 4\n",
    "units_to_overload = [i for i in range(overlap)]\n",
    "\n",
    "overlap_vector = np.arange(1, 10, 1, dtype=int)\n",
    "total_success_tau_z = np.zeros(overlap_vector.size)"
   ]
  },
  {
   "cell_type": "code",
   "execution_count": null,
   "metadata": {
    "collapsed": true
   },
   "outputs": [],
   "source": [
    "for overlap_index, overlap in enumerate(overlap_vector):\n",
    "    print('overlap, index', overlap_index)\n",
    "    for tau_z_pre_index, tau_z_pre in enumerate(tau_z_pre_vector):\n",
    "\n",
    "        protocol = Protocol()\n",
    "        units_to_overload = [i for i in range(overlap)]\n",
    "        sequences = protocol.create_overload_chain(number_of_sequences, half_width, units_to_overload)\n",
    "        protocol.cross_protocol(sequences, training_time=training_time,\n",
    "                                inter_sequence_interval=inter_sequence_interval, epochs=epochs)\n",
    "\n",
    "        # Train\n",
    "        manager.run_network_protocol(protocol=protocol, verbose=False)\n",
    "\n",
    "        successes = calculate_recall_success_sequences(manager, T_recall=T_recall, T_cue=T_cue, n=n, sequences=sequences)\n",
    "        total_success_tau_z[overlap_index, tau_z_pre_index] = np.mean(successes)"
   ]
  },
  {
   "cell_type": "code",
   "execution_count": null,
   "metadata": {
    "collapsed": true
   },
   "outputs": [],
   "source": []
  },
  {
   "cell_type": "code",
   "execution_count": null,
   "metadata": {
    "collapsed": true
   },
   "outputs": [],
   "source": []
  },
  {
   "cell_type": "markdown",
   "metadata": {},
   "source": [
    "#### Git machinery"
   ]
  },
  {
   "cell_type": "code",
   "execution_count": 3,
   "metadata": {
    "collapsed": true
   },
   "outputs": [],
   "source": [
    "if run_old_version:\n",
    "    subprocess.call(['git', 'checkout', 'master'])"
   ]
  },
  {
   "cell_type": "code",
   "execution_count": null,
   "metadata": {
    "collapsed": true
   },
   "outputs": [],
   "source": []
  }
 ],
 "metadata": {
  "anaconda-cloud": {},
  "kernelspec": {
   "display_name": "Python [conda root]",
   "language": "python",
   "name": "conda-root-py"
  },
  "language_info": {
   "codemirror_mode": {
    "name": "ipython",
    "version": 2
   },
   "file_extension": ".py",
   "mimetype": "text/x-python",
   "name": "python",
   "nbconvert_exporter": "python",
   "pygments_lexer": "ipython2",
   "version": "2.7.12"
  }
 },
 "nbformat": 4,
 "nbformat_minor": 0
}
