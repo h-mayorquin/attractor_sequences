{
 "cells": [
  {
   "cell_type": "markdown",
   "metadata": {},
   "source": [
    "# Example of random sequence generation\n",
    "This notebook is to experiment with random sequence generation"
   ]
  },
  {
   "cell_type": "code",
   "execution_count": 1,
   "metadata": {
    "collapsed": true
   },
   "outputs": [],
   "source": [
    "import pprint\n",
    "import subprocess\n",
    "import sys \n",
    "sys.path.append('../')\n",
    "\n",
    "import numpy as np\n",
    "import matplotlib.pyplot as plt\n",
    "import matplotlib\n",
    "import matplotlib.gridspec as gridspec\n",
    "from mpl_toolkits.axes_grid1 import make_axes_locatable\n",
    "import seaborn as sns\n",
    "\n",
    "%matplotlib inline\n",
    "\n",
    "np.set_printoptions(suppress=True, precision=2)\n",
    "\n",
    "sns.set(font_scale=2.0)\n",
    "\n"
   ]
  },
  {
   "cell_type": "markdown",
   "metadata": {},
   "source": [
    "#### Git machinery"
   ]
  },
  {
   "cell_type": "code",
   "execution_count": 2,
   "metadata": {
    "collapsed": true
   },
   "outputs": [],
   "source": [
    "run_old_version = False\n",
    "if run_old_version:\n",
    "    hash_when_file_was_written = '8b1969b503c94272f7eccbd537d469922725b10e'\n",
    "    hash_at_the_moment = subprocess.check_output([\"git\", 'rev-parse', 'HEAD']).strip()\n",
    "    print('Actual hash', hash_at_the_moment)\n",
    "    \n",
    "    print('Hash of the commit used to run the simulation', hash_when_file_was_written)\n",
    "    subprocess.call(['git', 'checkout', hash_when_file_was_written])"
   ]
  },
  {
   "cell_type": "code",
   "execution_count": 3,
   "metadata": {
    "collapsed": true
   },
   "outputs": [],
   "source": [
    "from connectivity_functions import  calculate_random_sequence, calculate_overlap_matrix\n",
    "from connectivity_functions import calculate_overlap_one_to_all, calculate_overlap_one_to_one\n",
    "from plotting_functions import plot_artificial_sequences"
   ]
  },
  {
   "cell_type": "markdown",
   "metadata": {},
   "source": [
    "## The example"
   ]
  },
  {
   "cell_type": "code",
   "execution_count": 23,
   "metadata": {
    "collapsed": true
   },
   "outputs": [],
   "source": [
    "# Patterns parameters\n",
    "hypercolumns = 4\n",
    "minicolumns = 10\n",
    "n_patterns = 10\n",
    "\n",
    "sequence_length = 5\n",
    "overload = 200\n",
    "overlap = 4\n",
    "one_to_one = True\n",
    "\n",
    "\n",
    "# Desired patterns\n",
    "total_sequences = 252\n",
    "\n",
    "# Running parameters\n",
    "max_iter = 1e4\n",
    "\n",
    "# Random seed\n",
    "prng = np.random.RandomState(seed=2)"
   ]
  },
  {
   "cell_type": "code",
   "execution_count": 24,
   "metadata": {
    "collapsed": false
   },
   "outputs": [],
   "source": [
    "aux = calculate_random_sequence(minicolumns, sequence_length, overlap,  overload,  one_to_one=one_to_one,\n",
    "                                prng=prng, total_sequences=total_sequences, max_iter=max_iter)\n",
    "sequences, overlap_dictionary, overload_matrix = aux\n",
    "\n",
    "# Calculate characteirstics\n",
    "if one_to_one:\n",
    "    total_overlap = calculate_overlap_one_to_one(sequences)\n",
    "else:\n",
    "    total_overlap = calculate_overlap_one_to_all(overlap_dictionary)\n",
    "\n",
    "overlap_matrix = calculate_overlap_matrix(sequences)"
   ]
  },
  {
   "cell_type": "code",
   "execution_count": 25,
   "metadata": {
    "collapsed": false
   },
   "outputs": [
    {
     "name": "stdout",
     "output_type": "stream",
     "text": [
      "number of sequences\n",
      "252\n",
      "overload matrix\n",
      "[ 126.  126.  126.  126.  126.  126.  126.  126.  126.  126.]\n",
      "overlap matrix\n",
      "[[ 0.  2.  3. ...,  2.  2.  2.]\n",
      " [ 2.  0.  1. ...,  2.  4.  2.]\n",
      " [ 3.  1.  0. ...,  2.  2.  2.]\n",
      " ..., \n",
      " [ 2.  2.  2. ...,  0.  3.  3.]\n",
      " [ 2.  4.  2. ...,  3.  0.  2.]\n",
      " [ 2.  2.  2. ...,  3.  2.  0.]]\n",
      "total overlap\n",
      "[ 4.  4.  4.  4.  4.  4.  4.  4.  4.  4.  4.  4.  4.  4.  4.  4.  4.  4.\n",
      "  4.  4.  4.  4.  4.  4.  4.  4.  4.  4.  4.  4.  4.  4.  4.  4.  4.  4.\n",
      "  4.  4.  4.  4.  4.  4.  4.  4.  4.  4.  4.  4.  4.  4.  4.  4.  4.  4.\n",
      "  4.  4.  4.  4.  4.  4.  4.  4.  4.  4.  4.  4.  4.  4.  4.  4.  4.  4.\n",
      "  4.  4.  4.  4.  4.  4.  4.  4.  4.  4.  4.  4.  4.  4.  4.  4.  4.  4.\n",
      "  4.  4.  4.  4.  4.  4.  4.  4.  4.  4.  4.  4.  4.  4.  4.  4.  4.  4.\n",
      "  4.  4.  4.  4.  4.  4.  4.  4.  4.  4.  4.  4.  4.  4.  4.  4.  4.  4.\n",
      "  4.  4.  4.  4.  4.  4.  4.  4.  4.  4.  4.  4.  4.  4.  4.  4.  4.  4.\n",
      "  4.  4.  4.  4.  4.  4.  4.  4.  4.  4.  4.  4.  4.  4.  4.  4.  4.  4.\n",
      "  4.  4.  4.  4.  4.  4.  4.  4.  4.  4.  4.  4.  4.  4.  4.  4.  4.  4.\n",
      "  4.  4.  4.  4.  4.  4.  4.  4.  4.  4.  4.  4.  4.  4.  4.  4.  4.  4.\n",
      "  4.  4.  4.  4.  4.  4.  4.  4.  4.  4.  4.  4.  4.  4.  4.  4.  4.  4.\n",
      "  4.  4.  4.  4.  4.  4.  4.  4.  4.  4.  4.  4.  4.  4.  4.  4.  4.  4.\n",
      "  4.  4.  4.  4.  4.  4.  4.  4.  4.  4.  4.  4.  4.  4.  4.  4.  4.  4.]\n"
     ]
    },
    {
     "data": {
      "image/png": "[encoded data removed]",
      "text/plain": [
       "<matplotlib.figure.Figure at 0x7fc074a51450>"
      ]
     },
     "metadata": {},
     "output_type": "display_data"
    }
   ],
   "source": [
    "print('number of sequences')\n",
    "print(len(sequences))\n",
    "print('overload matrix')\n",
    "print(overload_matrix)\n",
    "print('overlap matrix')\n",
    "print(overlap_matrix)\n",
    "print('total overlap')\n",
    "print(total_overlap)\n",
    "plot_artificial_sequences(sequences, minicolumns)"
   ]
  }
 ],
 "metadata": {
  "kernelspec": {
   "display_name": "Python [conda root]",
   "language": "python",
   "name": "conda-root-py"
  },
  "language_info": {
   "codemirror_mode": {
    "name": "ipython",
    "version": 2
   },
   "file_extension": ".py",
   "mimetype": "text/x-python",
   "name": "python",
   "nbconvert_exporter": "python",
   "pygments_lexer": "ipython2",
   "version": "2.7.12"
  }
 },
 "nbformat": 4,
 "nbformat_minor": 0
}
