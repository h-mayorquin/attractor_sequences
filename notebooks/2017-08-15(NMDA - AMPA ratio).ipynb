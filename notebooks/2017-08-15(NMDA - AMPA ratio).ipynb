{
 "cells": [
  {
   "cell_type": "markdown",
   "metadata": {},
   "source": [
    "# NMDA / AMPA ratio\n",
    "This is to explore how successful recall depends on this ratio. The idea is that AMPA is isually weaker compared to AMPA.\n",
    "\n",
    "We have to do three things then:\n",
    "* Test that at the level of recall there are no problems for low values of this ratio for the artificial matrix.\n",
    "* Test then for real training conditions.\n",
    "* And measure how the actual ratio (not of gains but of the matrix end up in a situation like this)"
   ]
  },
  {
   "cell_type": "code",
   "execution_count": null,
   "metadata": {
    "collapsed": true
   },
   "outputs": [],
   "source": [
    "import pprint\n",
    "import subprocess\n",
    "import sys \n",
    "sys.path.append('../')\n",
    "\n",
    "import numpy as np\n",
    "import matplotlib.pyplot as plt\n",
    "import matplotlib\n",
    "import matplotlib.gridspec as gridspec\n",
    "from mpl_toolkits.axes_grid1 import make_axes_locatable\n",
    "import seaborn as sns\n",
    "\n",
    "%matplotlib inline\n",
    "\n",
    "np.set_printoptions(suppress=True, precision=2)\n",
    "\n",
    "sns.set(font_scale=2.0)"
   ]
  },
  {
   "cell_type": "markdown",
   "metadata": {},
   "source": [
    "#### Git machinery"
   ]
  },
  {
   "cell_type": "code",
   "execution_count": null,
   "metadata": {
    "collapsed": true
   },
   "outputs": [],
   "source": [
    "run_old_version = False\n",
    "if run_old_version:\n",
    "    hash_when_file_was_written = '95c0ca0cdca3f00e55f0e46dd9a8b8c1f492d94e'\n",
    "    hash_at_the_moment = subprocess.check_output([\"git\", 'rev-parse', 'HEAD']).strip()\n",
    "    print('Actual hash', hash_at_the_moment)\n",
    "    \n",
    "    print('Hash of the commit used to run the simulation', hash_when_file_was_written)\n",
    "    subprocess.call(['git', 'checkout', hash_when_file_was_written])"
   ]
  },
  {
   "cell_type": "code",
   "execution_count": null,
   "metadata": {
    "collapsed": true
   },
   "outputs": [],
   "source": [
    "from network import Protocol, BCPNNFast, NetworkManager\n",
    "from analysis_functions import calculate_recall_success_sequences, calculate_timings\n",
    "from connectivity_functions import create_artificial_manager "
   ]
  },
  {
   "cell_type": "code",
   "execution_count": null,
   "metadata": {
    "collapsed": true
   },
   "outputs": [],
   "source": [
    "def subsequence(sub, sequence):\n",
    "    flag = True\n",
    "    n_sub =len(sub)\n",
    "    n_sequence = len(sequence)\n",
    "    index = 0\n",
    "    while index < n_sub and index < n_sequence:\n",
    "        if sub[index] != sequence[index]:\n",
    "            flag = False\n",
    "            break\n",
    "        index += 1\n",
    "\n",
    "    return flag"
   ]
  },
  {
   "cell_type": "markdown",
   "metadata": {},
   "source": [
    "## Artificial recall"
   ]
  },
  {
   "cell_type": "code",
   "execution_count": null,
   "metadata": {
    "collapsed": false
   },
   "outputs": [],
   "source": [
    "# Patterns parameters\n",
    "hypercolumns = 4\n",
    "minicolumns = 40\n",
    "n_patterns = 20\n",
    "\n",
    "dt = 0.001\n",
    "n = 10\n",
    "\n",
    "beta = False\n",
    "value = 3\n",
    "inhibition = -1.0\n",
    "extension = 2\n",
    "decay_factor = 0.3\n",
    "sequence_decay = 0.0\n",
    "\n",
    "\n",
    "tau_z_pre = 0.150\n",
    "g_w = 1.0\n",
    "g_w_ampa = 1.0\n",
    "g_a = 97.0"
   ]
  },
  {
   "cell_type": "code",
   "execution_count": null,
   "metadata": {
    "collapsed": false
   },
   "outputs": [],
   "source": [
    "g_w_range = np.arange(0.1, 2.1, 0.2)\n",
    "g_w_successes = []\n",
    "g_w_recall_time = []\n",
    "g_w_recall_time_std = []\n",
    "\n",
    "for g_w in g_w_range:\n",
    "    \n",
    "    sequences = [[i for i in range(n_patterns)]]\n",
    "\n",
    "\n",
    "    manager = create_artificial_manager(hypercolumns, minicolumns, sequences, value=value, inhibition=inhibition,\n",
    "                                    extension=extension, decay_factor=decay_factor, sequence_decay=sequence_decay,\n",
    "                                    dt=dt, BCPNNFast=BCPNNFast, NetworkManager=NetworkManager, ampa=True, beta=beta)\n",
    "\n",
    "    manager.nn.tau_z_pre = tau_z_pre\n",
    "    manager.nn.g_w = g_w\n",
    "    manager.nn.g_w_ampa = g_w_ampa\n",
    "    manager.nn.g_a = g_a\n",
    "\n",
    "\n",
    "    T_cue = 0.100\n",
    "    T_recall = 10.0\n",
    "    I_cue = sequences[0][0]\n",
    "\n",
    "    # Success\n",
    "    successes = calculate_recall_success_sequences(manager, T_recall=T_recall, \n",
    "                                                   T_cue=T_cue, n=n, sequences=sequences)\n",
    "    g_w_successes.append(successes[0])\n",
    "    \n",
    "    # Recall time\n",
    "    timings = calculate_timings(manager, remove=0.010)\n",
    "    n_min = min(len(sequences[0]), len(timings))\n",
    "    patterns = [x[0] for x in timings]\n",
    "    flag = subsequence(patterns, sequences[0])\n",
    "\n",
    "    if flag:\n",
    "        time = [x[1] for x in timings[:n_min]]\n",
    "        mean = np.mean(time[1:-1])\n",
    "        std = np.std(time[1:-1])\n",
    "    else:\n",
    "        mean = 0\n",
    "        std = 0\n",
    "        \n",
    "    g_w_recall_time.append(mean)\n",
    "    g_w_recall_time_std.append(std)"
   ]
  },
  {
   "cell_type": "code",
   "execution_count": null,
   "metadata": {
    "collapsed": false
   },
   "outputs": [],
   "source": [
    "fig = plt.figure(figsize=(16, 12))\n",
    "ax = fig.add_subplot(111)\n",
    "ax.plot(g_w_range, g_w_successes, '*-', markersize=14, label='successes')\n",
    "\n",
    "ax.set_xlabel('NMDA to AMPA ratio')\n",
    "ax.set_ylabel('Success')\n",
    "\n",
    "ax.set_ylim([-5, 105])\n",
    "\n",
    "axt = ax.twinx()\n",
    "axt.plot(g_w_range, g_w_recall_time, '--', markersize=14, label='mean recall time')\n",
    "axt.plot(g_w_range, g_w_recall_time_std, '--', markersize=14, label='std')\n",
    "\n",
    "\n",
    "axt.set_ylim([-0.1, 1.0])\n",
    "\n",
    "axt.legend(loc=4);\n",
    "ax.legend();"
   ]
  },
  {
   "cell_type": "markdown",
   "metadata": {},
   "source": [
    "## Training with real scenario"
   ]
  },
  {
   "cell_type": "code",
   "execution_count": null,
   "metadata": {
    "collapsed": true
   },
   "outputs": [],
   "source": [
    "# Patterns parameters\n",
    "hypercolumns = 4\n",
    "minicolumns = 20\n",
    "n_patterns = 10\n",
    "\n",
    "dt = 0.001\n",
    "\n",
    "values_to_save = ['o']\n",
    "\n",
    "# Recall\n",
    "n = 10\n",
    "T_cue = 0.100\n",
    "T_recall = 10.0\n",
    "\n",
    "# Protocol\n",
    "training_time = 0.1\n",
    "inter_sequence_interval = 1.0\n",
    "inter_pulse_interval = 0.0\n",
    "epochs = 3"
   ]
  },
  {
   "cell_type": "code",
   "execution_count": null,
   "metadata": {
    "collapsed": false
   },
   "outputs": [],
   "source": [
    "g_w_range = np.arange(0.1, 2.1, 0.2)\n",
    "g_w_successes = []\n",
    "g_w_recall_time = []\n",
    "g_w_recall_time_std = []\n",
    "\n",
    "\n",
    "for g_w in g_w_range:\n",
    "    # Build the network\n",
    "    tau_z_pre = 0.150\n",
    "    nn = BCPNNFast(hypercolumns, minicolumns, tau_z_pre=tau_z_pre, g_w=g_w)\n",
    "\n",
    "    # Build the manager\n",
    "    manager = NetworkManager(nn=nn, dt=dt, values_to_save=values_to_save)\n",
    "\n",
    "    protocol = Protocol()\n",
    "    sequences = [i for i in range(n_patterns)]\n",
    "    protocol.simple_protocol(patterns_indexes=sequences, training_time=training_time,\n",
    "                             inter_sequence_interval=inter_sequence_interval, epochs=epochs)\n",
    "\n",
    "\n",
    "    manager.run_network_protocol(protocol=protocol, verbose=False)\n",
    "    \n",
    "    successes = calculate_recall_success_sequences(manager, T_recall=T_recall, \n",
    "                                                   T_cue=T_cue, n=n, sequences=[sequences])\n",
    "    g_w_successes.append(successes[0])\n",
    "    \n",
    "    # Recall time\n",
    "    timings = calculate_timings(manager, remove=0.010)\n",
    "    n_min = min(len(sequences), len(timings))\n",
    "    patterns = [x[0] for x in timings]\n",
    "    flag = subsequence(patterns, sequences)\n",
    "\n",
    "    if flag:\n",
    "        time = [x[1] for x in timings[:n_min]]\n",
    "        mean = np.mean(time[1:-1])\n",
    "        std = np.std(time[1:-1])\n",
    "    else:\n",
    "        mean = 0\n",
    "        std = 0\n",
    "        \n",
    "    g_w_recall_time.append(mean)\n",
    "    g_w_recall_time_std.append(std)"
   ]
  },
  {
   "cell_type": "code",
   "execution_count": null,
   "metadata": {
    "collapsed": false
   },
   "outputs": [],
   "source": [
    "fig = plt.figure(figsize=(16, 12))\n",
    "ax = fig.add_subplot(111)\n",
    "ax.plot(g_w_range, g_w_successes, '*-', markersize=14, label='successes')\n",
    "\n",
    "ax.set_xlabel('NMDA to AMPA ratio')\n",
    "ax.set_ylabel('Success')\n",
    "\n",
    "axt = ax.twinx()\n",
    "axt.plot(g_w_range, g_w_recall_time, '--', markersize=14, label='mean recall time')\n",
    "axt.plot(g_w_range, g_w_recall_time_std, '--', markersize=14, label='std')\n",
    "\n",
    "\n",
    "axt.set_ylim([0, 1.0])\n",
    "ax.set_ylim([-5, 105])\n",
    "\n",
    "axt.legend(loc=4);\n",
    "ax.legend();"
   ]
  },
  {
   "cell_type": "markdown",
   "metadata": {},
   "source": [
    "## Actual matrix values"
   ]
  },
  {
   "cell_type": "code",
   "execution_count": null,
   "metadata": {
    "collapsed": false
   },
   "outputs": [],
   "source": [
    "from analysis_functions import get_excitation, get_inhibition\n",
    "to_pattern = 4\n",
    "excitation_nmda = get_excitation(to_pattern, nn.w)\n",
    "inhibition_nmda = get_inhibition(to_pattern, nn.w)\n",
    "excitation_ampa = get_excitation(to_pattern, nn.w_ampa)\n",
    "inhibition_ampa = get_inhibition(to_pattern, nn.w_ampa)\n",
    "\n",
    "ratio = np.sum(excitation_nmda) / np.sum(excitation_ampa)\n",
    "ratio_inhibition = np.sum(inhibition_nmda) / np.sum(inhibition_ampa)\n",
    "print('ratio', ratio)\n",
    "print('ratio inhibtion', ratio_inhibition)"
   ]
  },
  {
   "cell_type": "markdown",
   "metadata": {},
   "source": [
    "In general there is more excitation of nmda **simply** because there are more connections with nmda. For AMPA the only ones are the ones that hold the pattern in place as long as it is running. For NMDA you have the inter-sequence connections and moreover the inter-hypercolumns."
   ]
  },
  {
   "cell_type": "markdown",
   "metadata": {},
   "source": [
    "#### Git machinery"
   ]
  },
  {
   "cell_type": "code",
   "execution_count": null,
   "metadata": {
    "collapsed": true
   },
   "outputs": [],
   "source": [
    "if run_old_version:\n",
    "    subprocess.call(['git', 'checkout', 'master'])"
   ]
  }
 ],
 "metadata": {
  "kernelspec": {
   "display_name": "Python [conda root]",
   "language": "python",
   "name": "conda-root-py"
  },
  "language_info": {
   "codemirror_mode": {
    "name": "ipython",
    "version": 2
   },
   "file_extension": ".py",
   "mimetype": "text/x-python",
   "name": "python",
   "nbconvert_exporter": "python",
   "pygments_lexer": "ipython2",
   "version": "2.7.12"
  }
 },
 "nbformat": 4,
 "nbformat_minor": 0
}
