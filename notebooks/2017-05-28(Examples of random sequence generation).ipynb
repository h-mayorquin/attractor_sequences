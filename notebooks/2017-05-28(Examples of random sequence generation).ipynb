{
 "cells": [
  {
   "cell_type": "markdown",
   "metadata": {},
   "source": [
    "# Example of random sequence generation\n",
    "This notebook is to experiment with random sequence generation"
   ]
  },
  {
   "cell_type": "code",
   "execution_count": 1,
   "metadata": {
    "collapsed": true
   },
   "outputs": [],
   "source": [
    "import pprint\n",
    "import subprocess\n",
    "import sys \n",
    "sys.path.append('../')\n",
    "\n",
    "import numpy as np\n",
    "import matplotlib.pyplot as plt\n",
    "import matplotlib\n",
    "import matplotlib.gridspec as gridspec\n",
    "from mpl_toolkits.axes_grid1 import make_axes_locatable\n",
    "import seaborn as sns\n",
    "\n",
    "%matplotlib inline\n",
    "\n",
    "np.set_printoptions(suppress=True, precision=2)\n",
    "\n",
    "sns.set(font_scale=2.0)\n",
    "\n"
   ]
  },
  {
   "cell_type": "markdown",
   "metadata": {},
   "source": [
    "#### Git machinery"
   ]
  },
  {
   "cell_type": "code",
   "execution_count": 2,
   "metadata": {
    "collapsed": true
   },
   "outputs": [],
   "source": [
    "run_old_version = False\n",
    "if run_old_version:\n",
    "    hash_when_file_was_written = '8b1969b503c94272f7eccbd537d469922725b10e'\n",
    "    hash_at_the_moment = subprocess.check_output([\"git\", 'rev-parse', 'HEAD']).strip()\n",
    "    print('Actual hash', hash_at_the_moment)\n",
    "    \n",
    "    print('Hash of the commit used to run the simulation', hash_when_file_was_written)\n",
    "    subprocess.call(['git', 'checkout', hash_when_file_was_written])"
   ]
  },
  {
   "cell_type": "code",
   "execution_count": 3,
   "metadata": {
    "collapsed": false
   },
   "outputs": [],
   "source": [
    "from network import Protocol, BCPNNFast, NetworkManager\n",
    "from connectivity_functions import  calculate_random_sequence, calculate_overlap_matrix\n",
    "from connectivity_functions import calculate_overlap_one_to_all, calculate_overlap_one_to_one\n",
    "from connectivity_functions import  artificial_connectivity_matrix\n",
    "from plotting_functions import plot_artificial_sequences, plot_winning_pattern\n",
    "from analysis_functions import calculate_timings, calculate_recall_success"
   ]
  },
  {
   "cell_type": "markdown",
   "metadata": {},
   "source": [
    "## The example"
   ]
  },
  {
   "cell_type": "code",
   "execution_count": 4,
   "metadata": {
    "collapsed": true
   },
   "outputs": [],
   "source": [
    "# Patterns parameters\n",
    "hypercolumns = 4\n",
    "minicolumns = 10\n",
    "n_patterns = 10\n",
    "\n",
    "sequence_length = 5\n",
    "overload = 200\n",
    "overlap = 4\n",
    "one_to_one = True\n",
    "\n",
    "\n",
    "# Desired patterns\n",
    "total_sequences = 252\n",
    "\n",
    "# Running parameters\n",
    "max_iter = 1e4\n",
    "\n",
    "# Random seed\n",
    "prng = np.random.RandomState(seed=2)"
   ]
  },
  {
   "cell_type": "code",
   "execution_count": 5,
   "metadata": {
    "collapsed": false
   },
   "outputs": [],
   "source": [
    "aux = calculate_random_sequence(minicolumns, sequence_length, overlap,  overload,  one_to_one=one_to_one,\n",
    "                                prng=prng, total_sequences=total_sequences, max_iter=max_iter)\n",
    "sequences, overlap_dictionary, overload_matrix = aux\n",
    "\n",
    "# Calculate characteirstics\n",
    "if one_to_one:\n",
    "    total_overlap = calculate_overlap_one_to_one(sequences)\n",
    "else:\n",
    "    total_overlap = calculate_overlap_one_to_all(overlap_dictionary)\n",
    "\n",
    "overlap_matrix = calculate_overlap_matrix(sequences)"
   ]
  },
  {
   "cell_type": "code",
   "execution_count": 6,
   "metadata": {
    "collapsed": false
   },
   "outputs": [
    {
     "name": "stdout",
     "output_type": "stream",
     "text": [
      "number of sequences\n",
      "252\n",
      "overload matrix\n",
      "[ 126.  126.  126.  126.  126.  126.  126.  126.  126.  126.]\n",
      "overlap matrix\n",
      "[[ 0.  2.  3. ...,  2.  2.  2.]\n",
      " [ 2.  0.  1. ...,  2.  4.  2.]\n",
      " [ 3.  1.  0. ...,  2.  2.  2.]\n",
      " ..., \n",
      " [ 2.  2.  2. ...,  0.  3.  3.]\n",
      " [ 2.  4.  2. ...,  3.  0.  2.]\n",
      " [ 2.  2.  2. ...,  3.  2.  0.]]\n",
      "total overlap\n",
      "[ 4.  4.  4.  4.  4.  4.  4.  4.  4.  4.  4.  4.  4.  4.  4.  4.  4.  4.\n",
      "  4.  4.  4.  4.  4.  4.  4.  4.  4.  4.  4.  4.  4.  4.  4.  4.  4.  4.\n",
      "  4.  4.  4.  4.  4.  4.  4.  4.  4.  4.  4.  4.  4.  4.  4.  4.  4.  4.\n",
      "  4.  4.  4.  4.  4.  4.  4.  4.  4.  4.  4.  4.  4.  4.  4.  4.  4.  4.\n",
      "  4.  4.  4.  4.  4.  4.  4.  4.  4.  4.  4.  4.  4.  4.  4.  4.  4.  4.\n",
      "  4.  4.  4.  4.  4.  4.  4.  4.  4.  4.  4.  4.  4.  4.  4.  4.  4.  4.\n",
      "  4.  4.  4.  4.  4.  4.  4.  4.  4.  4.  4.  4.  4.  4.  4.  4.  4.  4.\n",
      "  4.  4.  4.  4.  4.  4.  4.  4.  4.  4.  4.  4.  4.  4.  4.  4.  4.  4.\n",
      "  4.  4.  4.  4.  4.  4.  4.  4.  4.  4.  4.  4.  4.  4.  4.  4.  4.  4.\n",
      "  4.  4.  4.  4.  4.  4.  4.  4.  4.  4.  4.  4.  4.  4.  4.  4.  4.  4.\n",
      "  4.  4.  4.  4.  4.  4.  4.  4.  4.  4.  4.  4.  4.  4.  4.  4.  4.  4.\n",
      "  4.  4.  4.  4.  4.  4.  4.  4.  4.  4.  4.  4.  4.  4.  4.  4.  4.  4.\n",
      "  4.  4.  4.  4.  4.  4.  4.  4.  4.  4.  4.  4.  4.  4.  4.  4.  4.  4.\n",
      "  4.  4.  4.  4.  4.  4.  4.  4.  4.  4.  4.  4.  4.  4.  4.  4.  4.  4.]\n"
     ]
    },
    {
     "data": {
      "image/png": "[encoded data removed]",
      "text/plain": [
       "<matplotlib.figure.Figure at 0x7f51f5c1e650>"
      ]
     },
     "metadata": {},
     "output_type": "display_data"
    }
   ],
   "source": [
    "print('number of sequences')\n",
    "print(len(sequences))\n",
    "print('overload matrix')\n",
    "print(overload_matrix)\n",
    "print('overlap matrix')\n",
    "print(overlap_matrix)\n",
    "print('total overlap')\n",
    "print(total_overlap)\n",
    "plot_artificial_sequences(sequences, minicolumns)"
   ]
  },
  {
   "cell_type": "markdown",
   "metadata": {},
   "source": [
    "## Example with recall"
   ]
  },
  {
   "cell_type": "code",
   "execution_count": 7,
   "metadata": {
    "collapsed": true
   },
   "outputs": [],
   "source": [
    "# Patterns parameters\n",
    "hypercolumns = 4\n",
    "minicolumns = 50\n",
    "n_patterns = 10\n",
    "\n",
    "dt = 0.001\n",
    "\n",
    "value = 1.0\n",
    "inhibition = -1\n",
    "decay_factor = 0.5\n",
    "sequence_decay = 1.0\n",
    "extension = 2\n",
    "\n",
    "sequence_length = 5\n",
    "overload = 2\n",
    "overlap = 4\n",
    "one_to_one = True\n",
    "\n",
    "# Desired patterns\n",
    "total_sequences = 10\n",
    "\n",
    "# Running parameters\n",
    "max_iter = 1e4\n",
    "\n",
    "# Random seed\n",
    "prng = np.random.RandomState(seed=2)"
   ]
  },
  {
   "cell_type": "code",
   "execution_count": 8,
   "metadata": {
    "collapsed": false
   },
   "outputs": [],
   "source": [
    "aux = calculate_random_sequence(minicolumns, sequence_length, overlap,  overload,  one_to_one=one_to_one,\n",
    "                                prng=prng, total_sequences=total_sequences, max_iter=max_iter)\n",
    "sequences, overlap_dictionary, overload_matrix = aux\n",
    "n_sequences = len(sequences)\n",
    "\n",
    "w_nmda = artificial_connectivity_matrix(hypercolumns, minicolumns, sequences, value=value, inhibition=inhibition,\n",
    "                                        extension=extension, decay_factor=decay_factor, sequence_decay=sequence_decay,\n",
    "                                        diagonal_zero=True, self_influence=True, ampa=False)\n",
    "\n",
    "w_ampa = artificial_connectivity_matrix(hypercolumns, minicolumns, sequences, value=value, inhibition=inhibition,\n",
    "                                        extension=extension, decay_factor=decay_factor, sequence_decay=sequence_decay,\n",
    "                                        diagonal_zero=True, self_influence=True, ampa=True)\n",
    "\n",
    "nn = BCPNNFast(hypercolumns=hypercolumns, minicolumns=minicolumns)\n",
    "nn.w = w_nmda\n",
    "nn.w_ampa = w_ampa\n",
    "manager = NetworkManager(nn, dt=dt, values_to_save=['o'])\n",
    "for pattern_indexes in sequences:\n",
    "    manager.stored_patterns_indexes += pattern_indexes\n"
   ]
  },
  {
   "cell_type": "code",
   "execution_count": 9,
   "metadata": {
    "collapsed": false
   },
   "outputs": [
    {
     "name": "stdout",
     "output_type": "stream",
     "text": [
      "sequence_to_Recall\n",
      "[36, 47, 28, 9, 13]\n",
      "sequence recalled\n",
      "(36, 0.30099999999999999)\n",
      "(47, 0.53900000000000003)\n",
      "(28, 0.74399999999999999)\n",
      "(9, 0.95300000000000007)\n",
      "(13, 1.196)\n",
      "(4, 1.3960000000000001)\n",
      "(42, 1.6020000000000001)\n",
      "(17, 1.8129999999999999)\n",
      "(43, 2.0979999999999999)\n"
     ]
    },
    {
     "data": {
      "image/png": "[encoded data removed]",
      "text/plain": [
       "<matplotlib.figure.Figure at 0x7f51f28dac90>"
      ]
     },
     "metadata": {},
     "output_type": "display_data"
    }
   ],
   "source": [
    "# Recall\n",
    "T_cue = 0.100\n",
    "n_recall = 0\n",
    "sequence_to_recall = sequences[n_recall]\n",
    "print('sequence_to_Recall')\n",
    "print(sequence_to_recall)\n",
    "I_cue = sequence_to_recall[0]\n",
    "T_recall = 2.0\n",
    "manager.run_network_recall(T_recall=T_recall, I_cue=I_cue, T_cue=T_cue)\n",
    "plot_winning_pattern(manager)\n",
    "timings = calculate_timings(manager, remove=0.010)\n",
    "pair = [(x[0], x[3]) for x in timings]\n",
    "\n",
    "print('sequence recalled')\n",
    "for x in pair:\n",
    "    print(x)"
   ]
  },
  {
   "cell_type": "markdown",
   "metadata": {},
   "source": [
    "## More examples"
   ]
  },
  {
   "cell_type": "code",
   "execution_count": 10,
   "metadata": {
    "collapsed": true
   },
   "outputs": [],
   "source": [
    "# Patterns parameters\n",
    "hypercolumns = 4\n",
    "minicolumns = 15\n",
    "n_patterns = 10\n",
    "\n",
    "dt = 0.001\n",
    "\n",
    "value = 1.0\n",
    "inhibition = -1\n",
    "decay_factor = 0.5\n",
    "sequence_decay = 0.9\n",
    "extension = 2\n",
    "\n",
    "sequence_length = 4\n",
    "overload = 3\n",
    "overlap = 3\n",
    "one_to_one = True\n",
    "\n",
    "# Desired patterns\n",
    "total_sequences = 5\n",
    "\n",
    "# Running parameters\n",
    "max_iter = 1e4\n",
    "\n",
    "# Random seed\n",
    "prng = np.random.RandomState(seed=2)"
   ]
  },
  {
   "cell_type": "code",
   "execution_count": 11,
   "metadata": {
    "collapsed": true
   },
   "outputs": [],
   "source": [
    "aux = calculate_random_sequence(minicolumns, sequence_length, overlap,  overload,  one_to_one=one_to_one,\n",
    "                                prng=prng, total_sequences=total_sequences, max_iter=max_iter)\n",
    "sequences, overlap_dictionary, overload_matrix = aux\n",
    "n_sequences = len(sequences)\n",
    "\n",
    "w_nmda = artificial_connectivity_matrix(hypercolumns, minicolumns, sequences, value=value, inhibition=inhibition,\n",
    "                                        extension=extension, decay_factor=decay_factor, sequence_decay=sequence_decay,\n",
    "                                        diagonal_zero=True, self_influence=True, ampa=False)\n",
    "\n",
    "w_ampa = artificial_connectivity_matrix(hypercolumns, minicolumns, sequences, value=value, inhibition=inhibition,\n",
    "                                        extension=extension, decay_factor=decay_factor, sequence_decay=sequence_decay,\n",
    "                                        diagonal_zero=True, self_influence=True, ampa=True)\n",
    "\n",
    "nn = BCPNNFast(hypercolumns=hypercolumns, minicolumns=minicolumns)\n",
    "nn.w = w_nmda\n",
    "nn.w_ampa = w_ampa\n",
    "manager = NetworkManager(nn, dt=dt, values_to_save=['o'])\n",
    "for pattern_indexes in sequences:\n",
    "    manager.stored_patterns_indexes += pattern_indexes"
   ]
  },
  {
   "cell_type": "code",
   "execution_count": 12,
   "metadata": {
    "collapsed": false
   },
   "outputs": [
    {
     "name": "stdout",
     "output_type": "stream",
     "text": [
      "sequence to recall\n",
      "[11, 4, 5, 0]\n",
      "(11, 0.30099999999999999)\n",
      "(4, 0.52700000000000002)\n",
      "(5, 0.74099999999999999)\n",
      "(0, 1.121)\n",
      "(14, 1.232)\n",
      "(14, 1.266)\n",
      "(7, 1.6839999999999999)\n",
      "(10, 1.7030000000000001)\n",
      "(6, 1.7710000000000001)\n",
      "(9, 1.8049999999999999)\n",
      "(6, 1.8400000000000001)\n",
      "(9, 1.8500000000000001)\n",
      "(6, 1.8740000000000001)\n",
      "(13, 2.0979999999999999)\n",
      "success\n",
      "80.0\n",
      "----------------\n",
      "sequence to recall\n",
      "[10, 9, 14, 0]\n",
      "(10, 0.30099999999999999)\n",
      "(9, 0.51400000000000001)\n",
      "(14, 0.73399999999999999)\n",
      "(0, 1.107)\n",
      "(5, 1.4670000000000001)\n",
      "(4, 1.6679999999999999)\n",
      "(3, 1.867)\n",
      "(11, 2.0979999999999999)\n",
      "success\n",
      "100.0\n",
      "----------------\n",
      "sequence to recall\n",
      "[11, 12, 1, 5]\n",
      "(11, 0.30099999999999999)\n",
      "(4, 0.52700000000000002)\n",
      "(5, 0.74099999999999999)\n",
      "(0, 1.121)\n",
      "(3, 1.1380000000000001)\n",
      "(7, 1.1520000000000001)\n",
      "(13, 1.161)\n",
      "(13, 1.1830000000000001)\n",
      "(7, 1.6580000000000001)\n",
      "(1, 1.752)\n",
      "(14, 1.9510000000000001)\n",
      "(13, 2.0979999999999999)\n",
      "success\n",
      "0.0\n",
      "----------------\n",
      "sequence to recall\n",
      "[5, 4, 3, 11]\n",
      "(5, 0.30299999999999999)\n",
      "(4, 0.52200000000000002)\n",
      "(3, 0.745)\n",
      "(11, 0.98299999999999998)\n",
      "(12, 1.1899999999999999)\n",
      "(1, 1.427)\n",
      "(6, 1.6360000000000001)\n",
      "(13, 1.851)\n",
      "(7, 2.0979999999999999)\n",
      "success\n",
      "100.0\n",
      "----------------\n",
      "sequence to recall\n",
      "[1, 6, 13, 7]\n",
      "(1, 0.30199999999999999)\n",
      "(6, 0.52600000000000002)\n",
      "(13, 0.745)\n",
      "(7, 1.1200000000000001)\n",
      "(0, 1.6200000000000001)\n",
      "(4, 1.6440000000000001)\n",
      "(4, 1.806)\n",
      "(4, 1.9060000000000001)\n",
      "(3, 2.0979999999999999)\n",
      "success\n",
      "100.0\n",
      "----------------\n"
     ]
    }
   ],
   "source": [
    "# Recall\n",
    "n = 10\n",
    "T_cue = 0.100\n",
    "successes = []\n",
    "T_recall = 2.0\n",
    "for n_recall in range(total_sequences):\n",
    "    sequence_to_recall = sequences[n_recall]\n",
    "    print('sequence to recall')\n",
    "    print(sequence_to_recall)\n",
    "    I_cue = sequence_to_recall[0]\n",
    "\n",
    "    success = calculate_recall_success(manager, T_recall, I_cue, T_cue, n, patterns_indexes=sequence_to_recall)\n",
    "    successes.append(success)\n",
    "\n",
    "    manager.run_network_recall(T_recall=T_recall, I_cue=I_cue, T_cue=T_cue)\n",
    "    timings = calculate_timings(manager, remove=0.010)\n",
    "    pair = [(x[0], x[3]) for x in timings]\n",
    "\n",
    "    for x in pair:\n",
    "        print(x)\n",
    "\n",
    "    print('success')\n",
    "    print(success)\n",
    "    print('----------------')\n",
    "\n",
    "plt.show()"
   ]
  },
  {
   "cell_type": "markdown",
   "metadata": {
    "collapsed": true
   },
   "source": [
    "#### Git machinery"
   ]
  },
  {
   "cell_type": "code",
   "execution_count": null,
   "metadata": {
    "collapsed": true
   },
   "outputs": [],
   "source": [
    "if run_old_version:\n",
    "    subprocess.call(['git', 'checkout', 'master'])"
   ]
  }
 ],
 "metadata": {
  "anaconda-cloud": {},
  "kernelspec": {
   "display_name": "Python [conda root]",
   "language": "python",
   "name": "conda-root-py"
  },
  "language_info": {
   "codemirror_mode": {
    "name": "ipython",
    "version": 2
   },
   "file_extension": ".py",
   "mimetype": "text/x-python",
   "name": "python",
   "nbconvert_exporter": "python",
   "pygments_lexer": "ipython2",
   "version": "2.7.12"
  }
 },
 "nbformat": 4,
 "nbformat_minor": 0
}
