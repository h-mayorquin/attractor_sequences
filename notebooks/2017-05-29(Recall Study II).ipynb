{
 "cells": [
  {
   "cell_type": "markdown",
   "metadata": {},
   "source": [
    "# Recall study II"
   ]
  },
  {
   "cell_type": "code",
   "execution_count": 1,
   "metadata": {
    "collapsed": true
   },
   "outputs": [],
   "source": [
    "import pprint\n",
    "import subprocess\n",
    "import sys \n",
    "sys.path.append('../')\n",
    "\n",
    "import numpy as np\n",
    "import matplotlib.pyplot as plt\n",
    "import matplotlib\n",
    "import matplotlib.gridspec as gridspec\n",
    "from mpl_toolkits.axes_grid1 import make_axes_locatable\n",
    "import seaborn as sns\n",
    "\n",
    "%matplotlib inline\n",
    "\n",
    "np.set_printoptions(suppress=True, precision=2)\n",
    "\n",
    "sns.set(font_scale=2.0)"
   ]
  },
  {
   "cell_type": "markdown",
   "metadata": {},
   "source": [
    "#### Git machinery"
   ]
  },
  {
   "cell_type": "code",
   "execution_count": 2,
   "metadata": {
    "collapsed": true
   },
   "outputs": [],
   "source": [
    "run_old_version = False\n",
    "if run_old_version:\n",
    "    hash_when_file_was_written = '5273391d742b9de04a97883c9765403b38ecfe03'\n",
    "    hash_at_the_moment = subprocess.check_output([\"git\", 'rev-parse', 'HEAD']).strip()\n",
    "    print('Actual hash', hash_at_the_moment)\n",
    "    \n",
    "    print('Hash of the commit used to run the simulation', hash_when_file_was_written)\n",
    "    subprocess.call(['git', 'checkout', hash_when_file_was_written])"
   ]
  },
  {
   "cell_type": "code",
   "execution_count": 3,
   "metadata": {
    "collapsed": true
   },
   "outputs": [],
   "source": [
    "from network import BCPNNFast, NetworkManager\n",
    "from plotting_functions import plot_winning_pattern\n",
    "from analysis_functions import calculate_recall_success, calculate_timings\n",
    "from connectivity_functions import artificial_connectivity_matrix\n",
    "from analysis_functions import calculate_recall_success_sequences\n",
    "from connectivity_functions import create_artificial_manager, calculate_random_sequence"
   ]
  },
  {
   "cell_type": "markdown",
   "metadata": {},
   "source": [
    "## How many sequences can we generate?"
   ]
  },
  {
   "cell_type": "code",
   "execution_count": 4,
   "metadata": {
    "collapsed": true
   },
   "outputs": [],
   "source": [
    "# Patterns parameters\n",
    "hypercolumns = 4\n",
    "minicolumns = 25\n",
    "n_patterns = 10\n",
    "\n",
    "dt = 0.001\n",
    "\n",
    "value = 1.0\n",
    "inhibition = -1\n",
    "decay_factor = 0.9\n",
    "sequence_decay = 0.9\n",
    "extension = 2\n",
    "\n",
    "sequence_length = 4\n",
    "overload = 3\n",
    "overlap = 3\n",
    "one_to_one = True\n",
    "\n",
    "# Desired patterns\n",
    "total_sequences = 5000\n",
    "\n",
    "# Running parameters\n",
    "max_iter = 1e4\n",
    "\n",
    "# Random seed\n",
    "prng = np.random.RandomState(seed=2)\n",
    "prng = np.random"
   ]
  },
  {
   "cell_type": "code",
   "execution_count": 5,
   "metadata": {
    "collapsed": false
   },
   "outputs": [
    {
     "name": "stdout",
     "output_type": "stream",
     "text": [
      "0\n",
      "1\n",
      "2\n",
      "3\n",
      "4\n",
      "5\n",
      "6\n",
      "7\n",
      "8\n",
      "9\n",
      "10\n",
      "11\n",
      "12\n",
      "13\n",
      "14\n",
      "15\n",
      "16\n",
      "17\n",
      "18\n",
      "19\n",
      "20\n",
      "21\n",
      "22\n",
      "23\n"
     ]
    }
   ],
   "source": [
    "overload_range = np.arange(1, minicolumns, 1)\n",
    "overlap_range = np.arange(0, minicolumns - 1, 1)\n",
    "n_sequences_mean = np.zeros((overload_range.size, overlap_range.size))\n",
    "n_sequences_var = np.zeros((overload_range.size, overlap_range.size))\n",
    "n_calculations = 20\n",
    "\n",
    "\n",
    "for index_overload, overload in enumerate(overload_range):\n",
    "    print(index_overload)\n",
    "    for index_overlap, overlap in enumerate(overlap_range):\n",
    "        n_list = []\n",
    "        for i in range(n_calculations):\n",
    "            aux = calculate_random_sequence(minicolumns, sequence_length, overlap,  overload,  one_to_one=one_to_one,\n",
    "                                            prng=prng, total_sequences=total_sequences, max_iter=max_iter)\n",
    "\n",
    "            sequences, overlap_dictionary, overload_matrix = aux\n",
    "            n_sequences = len(sequences)\n",
    "            n_list.append(n_sequences)\n",
    "\n",
    "        n_sequences_mean[index_overload, index_overlap] = np.mean(n_list)\n",
    "        n_sequences_var[index_overload, index_overlap] = np.var(n_list)"
   ]
  },
  {
   "cell_type": "code",
   "execution_count": 6,
   "metadata": {
    "collapsed": false
   },
   "outputs": [
    {
     "data": {
      "image/png": "[encoded data removed]",
      "text/plain": [
       "<matplotlib.figure.Figure at 0x7f22ad2a7750>"
      ]
     },
     "metadata": {},
     "output_type": "display_data"
    }
   ],
   "source": [
    "sns.set_style(\"whitegrid\", {'axes.grid': False})\n",
    "fig = plt.figure(figsize=(16, 12))\n",
    "ax1 = fig.add_subplot(121)\n",
    "ax2 = fig.add_subplot(122)\n",
    "\n",
    "extent = [overlap_range[0], overlap_range[-1], overload_range[0], overload_range[-1]]\n",
    "\n",
    "cmap = 'inferno'\n",
    "im1 = ax1.imshow(n_sequences_mean, origin='lower', cmap=cmap, interpolation='None', extent=extent)\n",
    "im2 = ax2.imshow(n_sequences_var, origin='lower', cmap=cmap, interpolation='None', extent=extent)\n",
    "\n",
    "divider1 = make_axes_locatable(ax1)\n",
    "cax1 = divider1.append_axes('right', size='5%', pad=0.05)\n",
    "fig.colorbar(im1, cax=cax1, orientation='vertical')\n",
    "\n",
    "divider2 = make_axes_locatable(ax2)\n",
    "cax2 = divider2.append_axes('right', size='5%', pad=0.05)\n",
    "fig.colorbar(im2, cax=cax2, orientation='vertical')\n",
    "\n",
    "ax1.set_xlabel('Overlap')\n",
    "ax1.set_ylabel('Overload')\n",
    "ax2.set_xlabel('Overlap')\n",
    "ax2.set_ylabel('Overload');"
   ]
  },
  {
   "cell_type": "markdown",
   "metadata": {},
   "source": [
    "## Calculate capacity"
   ]
  },
  {
   "cell_type": "code",
   "execution_count": 19,
   "metadata": {
    "collapsed": true
   },
   "outputs": [],
   "source": [
    "# Patterns parameters\n",
    "hypercolumns = 4\n",
    "minicolumns = 30\n",
    "n_patterns = 10\n",
    "\n",
    "dt = 0.001\n",
    "\n",
    "value = 1.0\n",
    "inhibition = -1\n",
    "decay_factor = 0.9\n",
    "sequence_decay = 0.9\n",
    "extension = 2\n",
    "\n",
    "sequence_length = 10\n",
    "one_to_one = True\n",
    "\n",
    "# Desired patterns\n",
    "total_sequences = 25\n",
    "\n",
    "# Running parameters\n",
    "max_iter = 1e4\n",
    "\n",
    "# Random seed\n",
    "prng = np.random.RandomState(seed=2)\n",
    "prng = np.random\n",
    "\n",
    "overload_range = np.arange(1, sequence_length, 1)\n",
    "overlap_range = np.arange(0, sequence_length - 1, 1)\n",
    "recall_success_mean = np.zeros((overload_range.size, overlap_range.size))\n",
    "recall_success_var = np.zeros((overload_range.size, overlap_range.size))\n",
    "\n",
    "n = 10\n",
    "T_cue = 0.100\n",
    "T_recall = 2.0"
   ]
  },
  {
   "cell_type": "code",
   "execution_count": 20,
   "metadata": {
    "collapsed": false
   },
   "outputs": [
    {
     "name": "stdout",
     "output_type": "stream",
     "text": [
      "0\n",
      "1\n",
      "2\n",
      "3\n",
      "4\n",
      "5\n",
      "6\n",
      "7\n",
      "8\n"
     ]
    }
   ],
   "source": [
    "for index_overload, overload in enumerate(overload_range):\n",
    "    print(index_overload)\n",
    "    for index_overlap, overlap in enumerate(overlap_range):\n",
    "\n",
    "        aux = calculate_random_sequence(minicolumns, sequence_length, overlap,  overload,  one_to_one=one_to_one,\n",
    "                                        prng=prng, total_sequences=total_sequences, max_iter=max_iter)\n",
    "\n",
    "        sequences, overlap_dictionary, overload_matrix = aux\n",
    "\n",
    "        manager = create_artificial_manager(hypercolumns, minicolumns, sequences, value, inhibition, extension,\n",
    "                                            decay_factor,\n",
    "                                            sequence_decay, dt, BCPNNFast, NetworkManager)\n",
    "\n",
    "        # Recall\n",
    "        successes = calculate_recall_success_sequences(manager, T_recall, T_cue, n, sequences)\n",
    "        \n",
    "        \n",
    "        mean = np.mean(successes)\n",
    "        recall_success_mean[index_overload, index_overlap] = mean \n",
    "        recall_success_var[index_overload, index_overlap] = np.var(successes) * mean\n"
   ]
  },
  {
   "cell_type": "code",
   "execution_count": 21,
   "metadata": {
    "collapsed": false
   },
   "outputs": [
    {
     "data": {
      "image/png": "[encoded data removed]",
      "text/plain": [
       "<matplotlib.figure.Figure at 0x7f22a8794a90>"
      ]
     },
     "metadata": {},
     "output_type": "display_data"
    }
   ],
   "source": [
    "fig = plt.figure(figsize=(16, 12))\n",
    "ax1 = fig.add_subplot(121)\n",
    "ax2 = fig.add_subplot(122)\n",
    "\n",
    "extent = [overlap_range[0], overlap_range[-1], overload_range[0], overload_range[-1]]\n",
    "\n",
    "cmap = 'inferno'\n",
    "im1 = ax1.imshow(recall_success_mean, origin='lower', cmap=cmap, interpolation='None', extent=extent)\n",
    "im2 = ax2.imshow(recall_success_var / recall_success_var.max(), origin='lower', cmap=cmap, interpolation='None', extent=extent)\n",
    "\n",
    "divider1 = make_axes_locatable(ax1)\n",
    "cax1 = divider1.append_axes('right', size='5%', pad=0.05)\n",
    "fig.colorbar(im1, cax=cax1, orientation='vertical')\n",
    "\n",
    "divider2 = make_axes_locatable(ax2)\n",
    "cax2 = divider2.append_axes('right', size='5%', pad=0.05)\n",
    "fig.colorbar(im2, cax=cax2, orientation='vertical')\n",
    "\n",
    "ax1.set_xlabel('Overlap')\n",
    "ax1.set_ylabel('Overload')\n",
    "ax2.set_xlabel('Overlap')\n",
    "ax2.set_ylabel('Overload');"
   ]
  },
  {
   "cell_type": "markdown",
   "metadata": {},
   "source": [
    "# Another calculation of capacity\n",
    "This time I count the possible number of sequences that you could have before the recall rate falling to zero. The results are not very good. "
   ]
  },
  {
   "cell_type": "code",
   "execution_count": 10,
   "metadata": {
    "collapsed": true
   },
   "outputs": [],
   "source": [
    "# Patterns parameters\n",
    "hypercolumns = 4\n",
    "minicolumns = 10\n",
    "n_patterns = 10\n",
    "\n",
    "dt = 0.001\n",
    "\n",
    "value = 1.0\n",
    "inhibition = -1\n",
    "decay_factor = 0.9\n",
    "sequence_decay = 0.9\n",
    "extension = 1\n",
    "\n",
    "sequence_length = 5\n",
    "overload = 3\n",
    "overlap = 2\n",
    "one_to_one = True\n",
    "\n",
    "# Desired patterns\n",
    "total_sequences = 10\n",
    "\n",
    "# Running parameters\n",
    "max_iter = 1e4\n",
    "\n",
    "# Random seed\n",
    "prng = np.random.RandomState(seed=2)\n",
    "# prng = np.random\n",
    "\n",
    "overload_range = np.arange(1, minicolumns, 1)\n",
    "overlap_range = np.arange(0, minicolumns - 1, 1)\n",
    "recall_success_mean = np.zeros((overload_range.size, overlap_range.size))\n",
    "recall_success_var = np.zeros((overload_range.size, overlap_range.size))\n",
    "\n",
    "n = 1\n",
    "T_cue = 0.100\n",
    "T_recall = 2.0\n"
   ]
  },
  {
   "cell_type": "code",
   "execution_count": 11,
   "metadata": {
    "collapsed": false
   },
   "outputs": [
    {
     "name": "stdout",
     "output_type": "stream",
     "text": [
      "1\n",
      "[[4, 1, 5, 0, 7]]\n",
      "[100.0]\n",
      "2\n",
      "[[4, 1, 5, 0, 7], [1, 6, 0, 2, 3]]\n",
      "[0.0, 100.0]\n",
      "3\n",
      "[[4, 1, 5, 0, 7], [1, 6, 0, 2, 3], [5, 9, 8, 0, 2]]\n",
      "[0.0, 100.0, 0.0]\n"
     ]
    }
   ],
   "source": [
    "aux = calculate_random_sequence(minicolumns, sequence_length, overlap,  overload,  one_to_one=one_to_one,\n",
    "                                prng=prng, total_sequences=total_sequences, max_iter=max_iter)\n",
    "sequences, overlap_dictionary, overload_matrix = aux\n",
    "3\n",
    "n_sequences_total = len(sequences)\n",
    "capacity = []\n",
    "weighted_var = []\n",
    "\n",
    "for n_sequences in range(1, n_sequences_total):\n",
    "    print(n_sequences)\n",
    "\n",
    "    partial_sequences = sequences[:n_sequences]\n",
    "    print(partial_sequences)\n",
    "    manager = create_artificial_manager(hypercolumns, minicolumns, partial_sequences, value, inhibition, extension,\n",
    "                                    decay_factor,\n",
    "                                    sequence_decay, dt, BCPNNFast, NetworkManager)\n",
    "\n",
    "    # Recall\n",
    "    successes = calculate_recall_success_sequences(manager, T_recall, T_cue, n, partial_sequences)\n",
    "    print(successes)\n",
    "\n",
    "    mean = np.mean(successes)\n",
    "    capacity.append(mean)\n",
    "    weighted_var.append(mean * np.var(successes))\n"
   ]
  },
  {
   "cell_type": "markdown",
   "metadata": {
    "collapsed": true
   },
   "source": [
    "#### Git machinery"
   ]
  },
  {
   "cell_type": "code",
   "execution_count": null,
   "metadata": {
    "collapsed": true
   },
   "outputs": [],
   "source": [
    "if run_old_version:\n",
    "    subprocess.call(['git', 'checkout', 'master'])"
   ]
  }
 ],
 "metadata": {
  "anaconda-cloud": {},
  "kernelspec": {
   "display_name": "Python [conda root]",
   "language": "python",
   "name": "conda-root-py"
  },
  "language_info": {
   "codemirror_mode": {
    "name": "ipython",
    "version": 2
   },
   "file_extension": ".py",
   "mimetype": "text/x-python",
   "name": "python",
   "nbconvert_exporter": "python",
   "pygments_lexer": "ipython2",
   "version": "2.7.12"
  }
 },
 "nbformat": 4,
 "nbformat_minor": 0
}
