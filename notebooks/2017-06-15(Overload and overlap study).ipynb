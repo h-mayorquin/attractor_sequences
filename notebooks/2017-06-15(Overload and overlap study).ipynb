{
 "cells": [
  {
   "cell_type": "markdown",
   "metadata": {},
   "source": [
    "# Overload and overlap study\n",
    "Perform calculations with the artificial matrix to quantify on what depends the ability to decontextualize this information"
   ]
  },
  {
   "cell_type": "code",
   "execution_count": 2,
   "metadata": {
    "collapsed": true
   },
   "outputs": [],
   "source": [
    "import pprint\n",
    "import subprocess\n",
    "import sys \n",
    "sys.path.append('../')\n",
    "\n",
    "import numpy as np\n",
    "import matplotlib.pyplot as plt\n",
    "import matplotlib\n",
    "import matplotlib.gridspec as gridspec\n",
    "from mpl_toolkits.axes_grid1 import make_axes_locatable\n",
    "import seaborn as sns\n",
    "\n",
    "%matplotlib inline\n",
    "\n",
    "np.set_printoptions(suppress=True, precision=2)\n",
    "\n",
    "sns.set(font_scale=2.0)"
   ]
  },
  {
   "cell_type": "markdown",
   "metadata": {},
   "source": [
    "#### Git machinery"
   ]
  },
  {
   "cell_type": "code",
   "execution_count": 3,
   "metadata": {
    "collapsed": true
   },
   "outputs": [],
   "source": [
    "run_old_version = False\n",
    "if run_old_version:\n",
    "    hash_when_file_was_written = '7c58fc806068b39902b233eb73185ed08a5a218c'\n",
    "    hash_at_the_moment = subprocess.check_output([\"git\", 'rev-parse', 'HEAD']).strip()\n",
    "    print('Actual hash', hash_at_the_moment)\n",
    "    \n",
    "    print('Hash of the commit used to run the simulation', hash_when_file_was_written)\n",
    "    subprocess.call(['git', 'checkout', hash_when_file_was_written])"
   ]
  },
  {
   "cell_type": "code",
   "execution_count": 4,
   "metadata": {
    "collapsed": true
   },
   "outputs": [],
   "source": [
    "from network import Protocol, BCPNNFast, NetworkManager\n",
    "from analysis_functions import calculate_recall_success_sequences\n",
    "from connectivity_functions import create_artificial_manager "
   ]
  },
  {
   "cell_type": "markdown",
   "metadata": {},
   "source": [
    "## Overload"
   ]
  },
  {
   "cell_type": "markdown",
   "metadata": {},
   "source": [
    "#### An example\n",
    "First a simple example"
   ]
  },
  {
   "cell_type": "code",
   "execution_count": 20,
   "metadata": {
    "collapsed": true
   },
   "outputs": [],
   "source": [
    "# Patterns parameters\n",
    "hypercolumns = 4\n",
    "minicolumns = 70\n",
    "n_patterns = 60\n",
    "\n",
    "dt = 0.001\n",
    "\n",
    "# Sequence protocol\n",
    "number_of_sequences = 4\n",
    "half_width = 3\n",
    "units_to_overload = [0, 1]\n",
    "\n",
    "# Build chain protocol\n",
    "chain_protocol = Protocol()\n",
    "sequences = chain_protocol.create_overload_chain(number_of_sequences, half_width, units_to_overload)\n",
    "\n",
    "beta = False\n",
    "value = 1.0\n",
    "inhbition = -1.0\n",
    "extension = 6\n",
    "decay_factor = 0.5\n",
    "sequence_decay  = 1.0\n",
    "tau_z_pre = 0.150\n",
    "\n",
    "manager = create_artificial_manager(hypercolumns, minicolumns, sequences, value=value, inhibition=inhbition,\n",
    "                                    extension=extension, decay_factor=decay_factor, sequence_decay=sequence_decay,\n",
    "                                    dt=dt, BCPNNFast=BCPNNFast, NetworkManager=NetworkManager, ampa=True, beta=beta)\n",
    "\n",
    "manager.nn.tau_z_pre = tau_z_pre"
   ]
  },
  {
   "cell_type": "code",
   "execution_count": 21,
   "metadata": {
    "collapsed": false
   },
   "outputs": [],
   "source": [
    "n = 5\n",
    "T_cue = 0.100\n",
    "T_recall = 5.0\n",
    "\n",
    "successes = calculate_recall_success_sequences(manager, T_recall=T_recall, T_cue=T_cue, n=n, sequences=sequences)"
   ]
  },
  {
   "cell_type": "code",
   "execution_count": 22,
   "metadata": {
    "collapsed": false
   },
   "outputs": [
    {
     "data": {
      "text/plain": [
       "[[2, 3, 4, 0, 1, 5, 6, 7],\n",
       " [8, 9, 10, 0, 1, 11, 12, 13],\n",
       " [14, 15, 16, 0, 1, 17, 18, 19],\n",
       " [20, 21, 22, 0, 1, 23, 24, 25]]"
      ]
     },
     "execution_count": 22,
     "metadata": {},
     "output_type": "execute_result"
    }
   ],
   "source": [
    "sequences"
   ]
  },
  {
   "cell_type": "code",
   "execution_count": 23,
   "metadata": {
    "collapsed": false
   },
   "outputs": [
    {
     "data": {
      "text/plain": [
       "[100.0, 100.0, 100.0, 100.0]"
      ]
     },
     "execution_count": 23,
     "metadata": {},
     "output_type": "execute_result"
    }
   ],
   "source": [
    "successes"
   ]
  },
  {
   "cell_type": "markdown",
   "metadata": {},
   "source": [
    "## Overlap"
   ]
  },
  {
   "cell_type": "markdown",
   "metadata": {},
   "source": [
    "#### An example to toy around"
   ]
  },
  {
   "cell_type": "code",
   "execution_count": null,
   "metadata": {
    "collapsed": true
   },
   "outputs": [],
   "source": [
    "# Patterns parameters\n",
    "hypercolumns = 4\n",
    "minicolumns = 40\n",
    "n_patterns = 20\n",
    "\n",
    "dt = 0.001\n",
    "\n",
    "beta = False\n",
    "value = 2\n",
    "inhibition = -1.0\n",
    "extension = 6\n",
    "decay_factor = 0.3\n",
    "sequence_decay = 0.0\n",
    "tau_z_pre = 0.150\n",
    "\n",
    "overlap = 2\n",
    "number_of_sequences = 2\n",
    "half_width = 4\n",
    "units_to_overload = [i for i in range(overlap)]\n",
    "\n",
    "# Build chain protocol\n",
    "chain_protocol = Protocol()\n",
    "\n",
    "sequences = chain_protocol.create_overload_chain(number_of_sequences, half_width, units_to_overload)\n",
    "# sequences = [[0, 1, 2, 3, 4, 5]]\n",
    "manager = create_artificial_manager(hypercolumns, minicolumns, sequences, value=value,\n",
    "                                inhibition=inhibition,\n",
    "                                extension=extension, decay_factor=decay_factor,\n",
    "                                sequence_decay=sequence_decay,\n",
    "                                dt=dt, BCPNNFast=BCPNNFast, NetworkManager=NetworkManager, ampa=True,\n",
    "                                beta=beta)\n",
    "\n",
    "manager.nn.tau_z_pre = tau_z_pre\n",
    "\n",
    "n = 1\n",
    "T_cue = 0.100\n",
    "T_recall = 10.0\n",
    "I_cue1 = sequences[0][0]\n",
    "I_cue2 = sequences[1][0]\n",
    "\n",
    "success1 = calculate_recall_success(manager, T_recall=T_recall, I_cue=I_cue1, T_cue=T_cue, n=n,\n",
    "                                    patterns_indexes=sequences[0])\n",
    "timings1 = calculate_timings(manager, remove=0.010)\n",
    "patterns1 = [x[0] for x in timings1]\n",
    "\n",
    "success2 = calculate_recall_success(manager, T_recall=T_recall, I_cue=I_cue2, T_cue=T_cue, n=n,\n",
    "                                    patterns_indexes=sequences[1])\n",
    "timings2 = calculate_timings(manager, remove=0.010)\n",
    "patterns2 = [x[0] for x in timings2]"
   ]
  },
  {
   "cell_type": "markdown",
   "metadata": {},
   "source": [
    "#### Value calculations"
   ]
  },
  {
   "cell_type": "code",
   "execution_count": 45,
   "metadata": {
    "collapsed": false
   },
   "outputs": [],
   "source": [
    "# Patterns parameters\n",
    "hypercolumns = 4\n",
    "minicolumns = 50\n",
    "\n",
    "dt = 0.001\n",
    "\n",
    "# Recall \n",
    "n = 10\n",
    "T_cue = 0.100\n",
    "T_recall = 10.0\n",
    "\n",
    "# Artificial matrix\n",
    "beta = False\n",
    "value = 5\n",
    "inhibition = -1.0\n",
    "extension = 6\n",
    "decay_factor = 0.1\n",
    "sequence_decay = 0.0\n",
    "tau_z_pre = 0.150\n",
    "\n",
    "# Sequence structure\n",
    "overlap = 3\n",
    "number_of_sequences = 2\n",
    "half_width = 4\n",
    "\n",
    "overlap_vector = np.arange(1, 10, 1, dtype=int)\n",
    "value_vector = np.arange(1, 11, 1)\n",
    "total_success = np.zeros((overlap_vector.size, value_vector.size))"
   ]
  },
  {
   "cell_type": "code",
   "execution_count": 46,
   "metadata": {
    "collapsed": false
   },
   "outputs": [
    {
     "name": "stdout",
     "output_type": "stream",
     "text": [
      "('overlap, index', 0)\n",
      "('overlap, index', 1)\n",
      "('overlap, index', 2)\n",
      "('overlap, index', 3)\n",
      "('overlap, index', 4)\n",
      "('overlap, index', 5)\n",
      "('overlap, index', 6)\n",
      "('overlap, index', 7)\n",
      "('overlap, index', 8)\n"
     ]
    }
   ],
   "source": [
    "# Sequence protocol\n",
    "for overlap_index, overlap in enumerate(overlap_vector):\n",
    "    print('overlap, index', overlap_index)\n",
    "    for value_index, value in enumerate(value_vector):\n",
    "        units_to_overload = [i for i in range(overlap)]\n",
    "\n",
    "        # Build chain protocol\n",
    "        chain_protocol = Protocol()\n",
    "        sequences = chain_protocol.create_overload_chain(number_of_sequences, half_width, units_to_overload)\n",
    "\n",
    "        manager = create_artificial_manager(hypercolumns, minicolumns, sequences, value=value, inhibition=inhibition,\n",
    "                                            extension=extension, decay_factor=decay_factor, sequence_decay=sequence_decay,\n",
    "                                            dt=dt, BCPNNFast=BCPNNFast, NetworkManager=NetworkManager, ampa=True, beta=beta)\n",
    "\n",
    "        manager.nn.tau_z_pre = tau_z_pre\n",
    "\n",
    "        successes = calculate_recall_success_sequences(manager, T_recall=T_recall, T_cue=T_cue, n=n, sequences=sequences)\n",
    "        total_success[overlap_index, value_index] = np.mean(successes)"
   ]
  },
  {
   "cell_type": "code",
   "execution_count": 47,
   "metadata": {
    "collapsed": false
   },
   "outputs": [
    {
     "data": {
      "image/png": "[encoded data removed]",
      "text/plain": [
       "<matplotlib.figure.Figure at 0x7feb72213e90>"
      ]
     },
     "metadata": {},
     "output_type": "display_data"
    }
   ],
   "source": [
    "sns.set_style(\"whitegrid\", {'axes.grid': False})\n",
    "\n",
    "fig = plt.figure(figsize=(16, 12))\n",
    "ax = fig.add_subplot(111)\n",
    "cmap = 'inferno'\n",
    "extent = [value_vector[0], value_vector[-1], overlap_vector[0], overlap_vector[-1]]\n",
    "im = ax.imshow(total_success, cmap=cmap, origin='lower', interpolation='None', extent=extent, aspect='auto')\n",
    "\n",
    "ax.set_xlabel('Excitability')\n",
    "ax.set_ylabel('Overlap')\n",
    "\n",
    "\n",
    "divider1 = make_axes_locatable(ax)\n",
    "cax1 = divider1.append_axes('right', size='5%', pad=0.05)\n",
    "fig.colorbar(im, cax=cax1, orientation='vertical');"
   ]
  },
  {
   "cell_type": "markdown",
   "metadata": {},
   "source": [
    "#### Tau_z calculations"
   ]
  },
  {
   "cell_type": "code",
   "execution_count": 48,
   "metadata": {
    "collapsed": true
   },
   "outputs": [],
   "source": [
    "# Patterns parameters\n",
    "hypercolumns = 4\n",
    "minicolumns = 50\n",
    "\n",
    "dt = 0.001\n",
    "\n",
    "# Recall \n",
    "n = 10\n",
    "T_cue = 0.100\n",
    "T_recall = 10.0\n",
    "\n",
    "# Artificial matrix\n",
    "beta = False\n",
    "value = 5\n",
    "inhibition = -1.0\n",
    "extension = 6\n",
    "decay_factor = 0.1\n",
    "sequence_decay = 0.1\n",
    "tau_z_pre = 0.150\n",
    "\n",
    "# Sequence structure\n",
    "overlap = 3\n",
    "number_of_sequences = 2\n",
    "half_width = 4\n",
    "\n",
    "overlap_vector = np.arange(1, 10, 1, dtype=int)\n",
    "tau_z_pre_vector = np.arange(0.050, 1.050, 0.050)\n",
    "total_success_tau_z = np.zeros((overlap_vector.size, tau_z_pre_vector.size))"
   ]
  },
  {
   "cell_type": "code",
   "execution_count": 49,
   "metadata": {
    "collapsed": false
   },
   "outputs": [
    {
     "name": "stdout",
     "output_type": "stream",
     "text": [
      "('overlap, index', 0)\n",
      "('overlap, index', 1)\n",
      "('overlap, index', 2)\n",
      "('overlap, index', 3)\n",
      "('overlap, index', 4)\n",
      "('overlap, index', 5)\n",
      "('overlap, index', 6)\n",
      "('overlap, index', 7)\n",
      "('overlap, index', 8)\n"
     ]
    }
   ],
   "source": [
    "for overlap_index, overlap in enumerate(overlap_vector):\n",
    "    print('overlap, index', overlap_index)\n",
    "    for tau_z_pre_index, tau_z_pre in enumerate(tau_z_pre_vector):\n",
    "\n",
    "        units_to_overload = [i for i in range(overlap)]\n",
    "\n",
    "        # Build chain protocol\n",
    "        chain_protocol = Protocol()\n",
    "        sequences = chain_protocol.create_overload_chain(number_of_sequences, half_width, units_to_overload)\n",
    "\n",
    "        manager = create_artificial_manager(hypercolumns, minicolumns, sequences, value=value,\n",
    "                                            inhibition=inhibition,\n",
    "                                            extension=extension, decay_factor=decay_factor,\n",
    "                                            sequence_decay=sequence_decay,\n",
    "                                            dt=dt, BCPNNFast=BCPNNFast, NetworkManager=NetworkManager, ampa=True,\n",
    "                                            beta=beta)\n",
    "\n",
    "        manager.nn.tau_z_pre = tau_z_pre\n",
    "\n",
    "        successes = calculate_recall_success_sequences(manager, T_recall=T_recall, T_cue=T_cue, n=n, sequences=sequences)\n",
    "        total_success_tau_z[overlap_index, tau_z_pre_index] = np.mean(successes)"
   ]
  },
  {
   "cell_type": "code",
   "execution_count": 50,
   "metadata": {
    "collapsed": false
   },
   "outputs": [
    {
     "data": {
      "image/png": "[encoded data removed]",
      "text/plain": [
       "<matplotlib.figure.Figure at 0x7feb71c96110>"
      ]
     },
     "metadata": {},
     "output_type": "display_data"
    }
   ],
   "source": [
    "fig = plt.figure(figsize=(16, 12))\n",
    "ax = fig.add_subplot(111)\n",
    "cmap = 'inferno'\n",
    "extent = [tau_z_pre_vector[0], tau_z_pre_vector[-1], overlap_vector[0], overlap_vector[-1]]\n",
    "\n",
    "im = ax.imshow(total_success_tau_z, origin='lower', cmap=cmap, interpolation='None', extent=extent, aspect='auto')\n",
    "\n",
    "ax.set_xlabel('Tau_z')\n",
    "ax.set_ylabel('Overlap')\n",
    "\n",
    "divider1 = make_axes_locatable(ax)\n",
    "cax1 = divider1.append_axes('right', size='5%', pad=0.05)\n",
    "fig.colorbar(im, cax=cax1, orientation='vertical');"
   ]
  },
  {
   "cell_type": "markdown",
   "metadata": {},
   "source": [
    "#### Extension"
   ]
  },
  {
   "cell_type": "code",
   "execution_count": 51,
   "metadata": {
    "collapsed": true
   },
   "outputs": [],
   "source": [
    "# Patterns parameters\n",
    "hypercolumns = 4\n",
    "minicolumns = 50\n",
    "\n",
    "dt = 0.001\n",
    "\n",
    "# Recall \n",
    "n = 10\n",
    "T_cue = 0.100\n",
    "T_recall = 10.0\n",
    "\n",
    "# Artificial matrix\n",
    "beta = False\n",
    "value = 5\n",
    "inhibition = -1.0\n",
    "extension = 6\n",
    "decay_factor = 0.1\n",
    "sequence_decay = 0.1\n",
    "tau_z_pre = 0.150\n",
    "\n",
    "# Sequence structure\n",
    "overlap = 3\n",
    "number_of_sequences = 2\n",
    "half_width = 4\n",
    "\n",
    "overlap_vector = np.arange(1, 10, 1, dtype=int)\n",
    "extension_vector = np.arange(1, 10, 1)\n",
    "total_success_extension = np.zeros((overlap_vector.size, extension_vector.size))"
   ]
  },
  {
   "cell_type": "code",
   "execution_count": 52,
   "metadata": {
    "collapsed": false
   },
   "outputs": [
    {
     "name": "stdout",
     "output_type": "stream",
     "text": [
      "('overlap, index', 0)\n",
      "('overlap, index', 1)\n",
      "('overlap, index', 2)\n",
      "('overlap, index', 3)\n",
      "('overlap, index', 4)\n",
      "('overlap, index', 5)\n",
      "('overlap, index', 6)\n",
      "('overlap, index', 7)\n",
      "('overlap, index', 8)\n"
     ]
    }
   ],
   "source": [
    "for overlap_index, overlap in enumerate(overlap_vector):\n",
    "    print('overlap, index', overlap_index)\n",
    "    for extension_index, extension in enumerate(extension_vector):\n",
    "\n",
    "        units_to_overload = [i for i in range(overlap)]\n",
    "\n",
    "        # Build chain protocol\n",
    "        chain_protocol = Protocol()\n",
    "        sequences = chain_protocol.create_overload_chain(number_of_sequences, half_width, units_to_overload)\n",
    "\n",
    "        manager = create_artificial_manager(hypercolumns, minicolumns, sequences, value=value,\n",
    "                                            inhibition=inhibition,\n",
    "                                            extension=extension, decay_factor=decay_factor,\n",
    "                                            sequence_decay=sequence_decay,\n",
    "                                            dt=dt, BCPNNFast=BCPNNFast, NetworkManager=NetworkManager, ampa=True,\n",
    "                                            beta=beta)\n",
    "\n",
    "        manager.nn.tau_z_pre = tau_z_pre\n",
    "\n",
    "        successes = calculate_recall_success_sequences(manager, T_recall=T_recall, T_cue=T_cue, n=n, sequences=sequences)\n",
    "        total_success_extension[overlap_index, extension_index] = np.mean(successes)"
   ]
  },
  {
   "cell_type": "code",
   "execution_count": 53,
   "metadata": {
    "collapsed": false
   },
   "outputs": [
    {
     "data": {
      "image/png": "[encoded data removed]",
      "text/plain": [
       "<matplotlib.figure.Figure at 0x7feb71804590>"
      ]
     },
     "metadata": {},
     "output_type": "display_data"
    }
   ],
   "source": [
    "fig = plt.figure(figsize=(16, 12))\n",
    "ax = fig.add_subplot(111)\n",
    "cmap = 'inferno'\n",
    "extent = [extension_vector[0], extension_vector[-1], overlap_vector[0], overlap_vector[-1], ]\n",
    "\n",
    "im = ax.imshow(total_success_extension, origin='lower', cmap=cmap, interpolation='None',\n",
    "               extent=extent, aspect='auto')\n",
    "\n",
    "ax.set_xlabel('Extension')\n",
    "ax.set_ylabel('Overlap')\n",
    "\n",
    "divider1 = make_axes_locatable(ax)\n",
    "cax1 = divider1.append_axes('right', size='5%', pad=0.05)\n",
    "fig.colorbar(im, cax=cax1, orientation='vertical');"
   ]
  },
  {
   "cell_type": "markdown",
   "metadata": {},
   "source": [
    "#### Git machinery"
   ]
  },
  {
   "cell_type": "code",
   "execution_count": null,
   "metadata": {
    "collapsed": true
   },
   "outputs": [],
   "source": [
    "if run_old_version:\n",
    "    subprocess.call(['git', 'checkout', 'master'])"
   ]
  }
 ],
 "metadata": {
  "anaconda-cloud": {},
  "kernelspec": {
   "display_name": "Python [conda root]",
   "language": "python",
   "name": "conda-root-py"
  },
  "language_info": {
   "codemirror_mode": {
    "name": "ipython",
    "version": 2
   },
   "file_extension": ".py",
   "mimetype": "text/x-python",
   "name": "python",
   "nbconvert_exporter": "python",
   "pygments_lexer": "ipython2",
   "version": "2.7.12"
  }
 },
 "nbformat": 4,
 "nbformat_minor": 0
}
