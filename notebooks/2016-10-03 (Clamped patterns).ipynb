{
 "cells": [
  {
   "cell_type": "markdown",
   "metadata": {},
   "source": [
    "# Clamped patterns\n",
    "This notebook will be used to study how clamping works with the BCPNN. In short here I analyze:\n",
    "* Whether the pattern converges to the clamped pattern for different parameters of the BCPNN (adapatation, bias, etc)\n",
    "\n",
    "First we load all the usual libraries"
   ]
  },
  {
   "cell_type": "code",
   "execution_count": 1,
   "metadata": {
    "collapsed": true
   },
   "outputs": [],
   "source": [
    "from __future__ import print_function\n",
    "import subprocess\n",
    "import sys \n",
    "sys.path.append('../')\n",
    "\n",
    "import numpy as np\n",
    "import seaborn as sns\n",
    "import matplotlib.pyplot as plt\n",
    "import matplotlib.gridspec as gridspec\\\n",
    "\n",
    "from mpl_toolkits.axes_grid1 import make_axes_locatable\n",
    "\n",
    "from connectivity_functions import get_beta, get_w\n",
    "from connectivity_functions import calculate_probability, calculate_coactivations\n",
    "from data_transformer import build_ortogonal_patterns\n",
    "from network import BCPNN\n",
    "\n",
    "import matplotlib.pyplot as plt\n",
    "import matplotlib.gridspec as gridspec\n",
    "import seaborn as sns\n",
    "\n",
    "%matplotlib inline\n",
    "sns.set(font_scale=2.5)\n",
    "np.set_printoptions(suppress=True)"
   ]
  },
  {
   "cell_type": "markdown",
   "metadata": {},
   "source": [
    "#### Git loading\n",
    "Here we build the machinery so this notebook can be read in the future. If the notebook do not work with current version, just set the bolean value to truth and this will retrieve the last status from version control where the model was running."
   ]
  },
  {
   "cell_type": "code",
   "execution_count": 2,
   "metadata": {
    "collapsed": true
   },
   "outputs": [],
   "source": [
    "# Git stuff"
   ]
  },
  {
   "cell_type": "markdown",
   "metadata": {},
   "source": [
    "## Clamping for simple model\n",
    "First we do a simple run just to see that we indeed get as the final state the model the clamping value. Or that the probabilities / activations of the model converge to the clamping values."
   ]
  },
  {
   "cell_type": "code",
   "execution_count": 9,
   "metadata": {
    "collapsed": false
   },
   "outputs": [
    {
     "name": "stdout",
     "output_type": "stream",
     "text": [
      "Initial pattern [ 0.5488135   0.71518937  0.60276338  0.54488318  0.4236548   0.64589411\n",
      "  0.43758721  0.891773    0.96366276]\n",
      "Final pattern [ 0.  0.  1.  0.  0.  1.  0.  0.  1.]\n",
      "I\n",
      "Difference [ 1. -0. -1. -0.  1. -1. -0. -0.  0.]\n",
      "Error 2.0\n"
     ]
    }
   ],
   "source": [
    "hypercolumns = 3\n",
    "minicolumns = 3\n",
    "\n",
    "patterns_dic = build_ortogonal_patterns(hypercolumns, minicolumns)\n",
    "patterns = list(patterns_dic.values())\n",
    "\n",
    "P = calculate_coactivations(patterns)\n",
    "p = calculate_probability(patterns)\n",
    "\n",
    "w = get_w(P, p)\n",
    "beta = get_beta(p)\n",
    "\n",
    "# Parameters and network intitiation\n",
    "tau_z_post = 0.240\n",
    "tau_z_pre = 0.240\n",
    "g_a = 0\n",
    "g_w = 1.0\n",
    "g_beta = 1.0\n",
    "tau_a = 2.7\n",
    "\n",
    "dt = 0.01\n",
    "T_simulation = 1.0\n",
    "simulation_time = np.arange(0, T_simulation + dt, dt)\n",
    "\n",
    "prng = np.random.RandomState(seed=0)\n",
    "\n",
    "# Define the network\n",
    "nn = BCPNN(hypercolumns, minicolumns, beta, w, p_pre=p, p_post=p, p_co=P,\n",
    "           tau_z_post=tau_z_post, tau_z_pre=tau_z_pre,\n",
    "           tau_a=tau_a, g_a=g_a, g_w=g_w, g_beta=g_beta, prng=prng, k=0)\n",
    "\n",
    "# This is the training\n",
    "I = np.array((1, 0, 0, 0, 1, 0, 0, 0, 1))\n",
    "nn.randomize_pattern()\n",
    "print('Initial pattern', nn.o)\n",
    "nn.run_network_simulation(simulation_time, I=I)\n",
    "print('Final pattern', nn.o)\n",
    "print('I')\n",
    "print('Difference', I - nn.o)\n",
    "print('Error', np.linalg.norm(I - nn.o))"
   ]
  },
  {
   "cell_type": "code",
   "execution_count": 6,
   "metadata": {
    "collapsed": false
   },
   "outputs": [
    {
     "name": "stdout",
     "output_type": "stream",
     "text": [
      "[1 0 0 0 1 0 0 0 1]\n",
      "[ 0.  0.  1.  0.  0.  1.  0.  0.  1.]\n",
      "[ 1. -0. -1. -0.  1. -1. -0. -0.  0.]\n"
     ]
    }
   ],
   "source": [
    "print(I)\n",
    "print(nn.o)\n",
    "print(I - nn.o)"
   ]
  },
  {
   "cell_type": "markdown",
   "metadata": {},
   "source": [
    "We see that the final pattern converges to the clamp value from the initial random pattern"
   ]
  },
  {
   "cell_type": "markdown",
   "metadata": {},
   "source": [
    "## Systematic Testing for Biases\n",
    "The following routine should test systematically the effect of the parameters for different values of the biases."
   ]
  },
  {
   "cell_type": "code",
   "execution_count": 10,
   "metadata": {
    "collapsed": false
   },
   "outputs": [
    {
     "name": "stdout",
     "output_type": "stream",
     "text": [
      "Total failure 2455.61611106\n"
     ]
    }
   ],
   "source": [
    "tolerance = 1e-5\n",
    "I = np.array((1, 0, 0, 0, 1, 0, 0, 0, 1))\n",
    "\n",
    "g_a_set = np.arange(0, 110, 10)\n",
    "g_w_set = np.arange(0, 22, 2)\n",
    "g_beta_set = np.arange(0, 22, 2)\n",
    "\n",
    "error = np.zeros((g_a_set.size, g_beta_set.size, g_w_set.size))\n",
    "\n",
    "for index_1, g_a in enumerate(g_a_set):\n",
    "    for index_2, g_beta in enumerate(g_beta_set):\n",
    "        for index_3, g_w in enumerate(g_w_set):\n",
    "\n",
    "            nn = BCPNN(hypercolumns, minicolumns, beta, w, p_pre=p, p_post=p, p_co=P,\n",
    "               g_w= g_w, g_beta=g_beta, g_a=g_a, prng=prng, k=0)\n",
    "\n",
    "            nn.randomize_pattern()\n",
    "\n",
    "            # This is the training\n",
    "\n",
    "            nn.run_network_simulation(simulation_time, I=I)\n",
    "            final = nn.o\n",
    "            error[index_1, index_2, index_3] = np.linalg.norm(I - final)\n",
    "\n",
    "\n",
    "\n",
    "print('Total failure', np.sum(error))"
   ]
  },
  {
   "cell_type": "markdown",
   "metadata": {},
   "source": [
    "We see that the eror is very small a wide combination of bias, so the clamping mechanism is safe against this change of variables.\n",
    "\n",
    "On the other hand if we decide to increase the number of hypercolumns and minicolumns "
   ]
  },
  {
   "cell_type": "code",
   "execution_count": null,
   "metadata": {
    "collapsed": true
   },
   "outputs": [],
   "source": []
  }
 ],
 "metadata": {
  "anaconda-cloud": {},
  "kernelspec": {
   "display_name": "Python 2",
   "language": "python",
   "name": "python2"
  },
  "language_info": {
   "codemirror_mode": {
    "name": "ipython",
    "version": 2
   },
   "file_extension": ".py",
   "mimetype": "text/x-python",
   "name": "python",
   "nbconvert_exporter": "python",
   "pygments_lexer": "ipython2",
   "version": "2.7.12"
  }
 },
 "nbformat": 4,
 "nbformat_minor": 0
}
