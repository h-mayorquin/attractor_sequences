{
 "cells": [
  {
   "cell_type": "markdown",
   "metadata": {
    "collapsed": true
   },
   "source": [
    "# Vanilla BCPNN and digit recall\n",
    "In this example I showcase how the BCPNN works as it most basic and provide a more complicated example with digit recall. \n",
    "\n",
    "The first thing that we do is to import all the libraries that we will need."
   ]
  },
  {
   "cell_type": "code",
   "execution_count": 1,
   "metadata": {
    "collapsed": false
   },
   "outputs": [],
   "source": [
    "from __future__ import print_function\n",
    "import subprocess\n",
    "import sys \n",
    "sys.path.append('../')\n",
    "import numpy as np\n",
    "import matplotlib.pyplot as plt\n",
    "import matplotlib.gridspec as gridspec\n",
    "import matplotlib.cm as cm\n",
    "from mpl_toolkits.axes_grid1 import make_axes_locatable\n",
    "\n",
    "from sklearn import datasets\n",
    "from matplotlib import ticker\n",
    "\n",
    "from network import BCPNN\n",
    "from connectivity_functions import get_beta, get_w, softmax\n",
    "from data_transformer import transform_normal_to_neural_single\n",
    "from data_transformer import transform_neural_to_normal_single\n",
    "from connectivity_functions import calculate_probability, calculate_coactivations\n",
    "\n",
    "\n",
    "%matplotlib inline"
   ]
  },
  {
   "cell_type": "markdown",
   "metadata": {},
   "source": [
    "We always get the git version that we are running in case we want to do checkout\n"
   ]
  },
  {
   "cell_type": "code",
   "execution_count": 2,
   "metadata": {
    "collapsed": false
   },
   "outputs": [
    {
     "name": "stdout",
     "output_type": "stream",
     "text": [
      "Hast before teh change 6f6eb56db4d331485cd290f41727eb468b8d7450\n"
     ]
    },
    {
     "data": {
      "text/plain": [
       "0"
      ]
     },
     "execution_count": 2,
     "metadata": {},
     "output_type": "execute_result"
    }
   ],
   "source": [
    "run_old_version = False\n",
    "if run_old_version:\n",
    "    hash_when_file_was_written = 'ae918e0766c21af41fee514e438a5c81c7c8b5a3'\n",
    "    hash_at_the_moment = subprocess.check_output([\"git\", 'rev-parse', 'HEAD']).strip()\n",
    "    print('Hash before the change', hash_at_the_moment)\n",
    "    subprocess.call(['git', 'checkout', hash_when_file_was_written])"
   ]
  },
  {
   "cell_type": "markdown",
   "metadata": {},
   "source": [
    "## Vanilla BCPNN"
   ]
  },
  {
   "cell_type": "code",
   "execution_count": 3,
   "metadata": {
    "collapsed": true
   },
   "outputs": [],
   "source": [
    "# First we set the patterns\n",
    "pattern1 = transform_normal_to_neural_single(np.array((1, 0, 0, 0, 0)))\n",
    "pattern2 = transform_normal_to_neural_single(np.array((0, 0, 0, 0, 1)))\n",
    "patterns = [pattern1, pattern2]"
   ]
  },
  {
   "cell_type": "code",
   "execution_count": 4,
   "metadata": {
    "collapsed": true
   },
   "outputs": [],
   "source": [
    "# Then we calculate the probabilities and joint-probabilities\n",
    "P = calculate_coactivations(patterns)\n",
    "p = calculate_probability(patterns)\n",
    "\n",
    "w = get_w(P, p)\n",
    "beta = get_beta(p)"
   ]
  },
  {
   "cell_type": "code",
   "execution_count": 5,
   "metadata": {
    "collapsed": true
   },
   "outputs": [],
   "source": [
    "# We define the Neural Network and the time course\n",
    "nn = BCPNN(beta, w)\n",
    "\n",
    "dt = 0.1\n",
    "T = 1.0\n",
    "time = np.arange(0, T + dt, dt)\n",
    "\n",
    "history_o = np.zeros((time.size, beta.size))\n",
    "history_s = np.zeros_like(history_o)"
   ]
  },
  {
   "cell_type": "code",
   "execution_count": 6,
   "metadata": {
    "collapsed": true
   },
   "outputs": [],
   "source": [
    "# We run the code now\n",
    "for index_t, t in enumerate(time):\n",
    "    nn.update_continuous(dt)\n",
    "    history_o[index_t, :] = nn.o\n",
    "    history_s[index_t, :] = nn.s"
   ]
  },
  {
   "cell_type": "markdown",
   "metadata": {},
   "source": [
    "#### Plotting\n",
    "Here we illustrate how the process evolved with each time step dt"
   ]
  },
  {
   "cell_type": "code",
   "execution_count": 7,
   "metadata": {
    "collapsed": false
   },
   "outputs": [
    {
     "data": {
      "text/plain": [
       "<matplotlib.colorbar.Colorbar instance at 0x7f5a3be071b8>"
      ]
     },
     "execution_count": 7,
     "metadata": {},
     "output_type": "execute_result"
    },
    {
     "name": "stderr",
     "output_type": "stream",
     "text": [
      "/home/heberto/miniconda/lib/python2.7/site-packages/matplotlib/collections.py:590: FutureWarning: elementwise comparison failed; returning scalar instead, but in the future will perform elementwise comparison\n",
      "  if self._edgecolors == str('face'):\n"
     ]
    },
    {
     "data": {
      "image/png": "[encoded data removed]",
      "text/plain": [
       "<matplotlib.figure.Figure at 0x7f59efc795d0>"
      ]
     },
     "metadata": {},
     "output_type": "display_data"
    }
   ],
   "source": [
    "gs = gridspec.GridSpec(1, 2)\n",
    "fig = plt.figure(figsize=(16, 12))\n",
    "\n",
    "ax1 = fig.add_subplot(gs[0, 0])\n",
    "im1 = ax1.imshow(history_o.T, cmap='gray', interpolation='nearest')\n",
    "ax1.set_title('Evolution of o (probability)')\n",
    "\n",
    "divider1 = make_axes_locatable(ax1)\n",
    "cax1 = divider1.append_axes(\"right\", size='5%', pad=0.05)\n",
    "fig.colorbar(im1, cax=cax1)\n",
    "\n",
    "ax2 = fig.add_subplot(gs[0, 1])\n",
    "im2 = ax2.imshow(history_s.T, cmap='gray', interpolation='nearest')\n",
    "ax2.set_title('Evolution of s (support variable)')\n",
    "\n",
    "divider2 = make_axes_locatable(ax2)\n",
    "cax2 = divider2.append_axes('right', size='5%', pad=0.05)\n",
    "fig.colorbar(im2, cax=cax2)"
   ]
  },
  {
   "cell_type": "code",
   "execution_count": 8,
   "metadata": {
    "collapsed": false
   },
   "outputs": [
    {
     "name": "stdout",
     "output_type": "stream",
     "text": [
      "Final pattern [ 0.          0.00000014  0.00000014  0.00000014  1.        ]\n"
     ]
    }
   ],
   "source": [
    "np.set_printoptions(suppress=True)\n",
    "x = transform_neural_to_normal_single(nn.o)\n",
    "print('Final pattern', x)"
   ]
  },
  {
   "cell_type": "markdown",
   "metadata": {},
   "source": [
    "We see that the evolution of the probability is quite fast and abrupt (I believe this is because of the normalization of the process) whereas the evolution of the support variable is more continous and nuanced."
   ]
  },
  {
   "cell_type": "markdown",
   "metadata": {},
   "source": [
    "## Digit recall\n",
    "In this example I evolve a BCPNN discretly in its most simple ways just to prove that it is useful to encode more complicated patterns"
   ]
  },
  {
   "cell_type": "code",
   "execution_count": 9,
   "metadata": {
    "collapsed": true
   },
   "outputs": [],
   "source": [
    "# Load and transform the data\n",
    "digits = datasets.load_digits()\n",
    "\n",
    "images = digits['images']\n",
    "data = digits['data']\n",
    "target_names = digits['target_names']\n",
    "target = digits['target']\n",
    "\n",
    "# Let's binarize the image\n",
    "data[data < 8] = 0\n",
    "data[data >= 8] = 1"
   ]
  },
  {
   "cell_type": "code",
   "execution_count": 10,
   "metadata": {
    "collapsed": true
   },
   "outputs": [],
   "source": [
    "# Let's get two images and learn them as a pattern\n",
    "number_of_patterns = 2\n",
    "patterns = []\n",
    "for i in range(number_of_patterns):\n",
    "    patterns.append(data[i])"
   ]
  },
  {
   "cell_type": "code",
   "execution_count": 11,
   "metadata": {
    "collapsed": true
   },
   "outputs": [],
   "source": [
    "# Load neural patterns, probabilities and get connectivity and bias\n",
    "neural_patterns = [transform_normal_to_neural_single(pattern) for pattern in patterns]\n",
    "\n",
    "p = calculate_probability(neural_patterns)\n",
    "P = calculate_coactivations(neural_patterns)\n",
    "\n",
    "w = get_w(P, p)\n",
    "beta = get_beta(p)"
   ]
  },
  {
   "cell_type": "code",
   "execution_count": 12,
   "metadata": {
    "collapsed": false
   },
   "outputs": [],
   "source": [
    "# Instantiate the neural network and define the time course\n",
    "# Here we have the evolution\n",
    "T = 10\n",
    "dt = 0.1\n",
    "tau_m = 1.0\n",
    "G = 1.0\n",
    "\n",
    "network = BCPNN(beta, w, G=G, tau_m=tau_m)\n",
    "initial_image = np.copy(transform_neural_to_normal_single(network.o).reshape(8, 8))"
   ]
  },
  {
   "cell_type": "code",
   "execution_count": 13,
   "metadata": {
    "collapsed": true
   },
   "outputs": [],
   "source": [
    "# Here we evolve the network and get the final image\n",
    "network.update_discrete(T)\n",
    "\n",
    "final_image = transform_neural_to_normal_single(network.o).reshape(8, 8)"
   ]
  },
  {
   "cell_type": "markdown",
   "metadata": {},
   "source": [
    "#### Now we plot the final result"
   ]
  },
  {
   "cell_type": "code",
   "execution_count": 14,
   "metadata": {
    "collapsed": false
   },
   "outputs": [
    {
     "data": {
      "image/png": "[encoded data removed]",
      "text/plain": [
       "<matplotlib.figure.Figure at 0x7f59efc6fd10>"
      ]
     },
     "metadata": {},
     "output_type": "display_data"
    }
   ],
   "source": [
    "gs = gridspec.GridSpec(number_of_patterns, number_of_patterns, wspace=0.1, hspace=0.1)\n",
    "cmap = cm.bone\n",
    "interpolation = 'nearest'\n",
    "\n",
    "fig = plt.figure(figsize=(16, 12))\n",
    "\n",
    "for i in range(number_of_patterns):\n",
    "    ax = fig.add_subplot(gs[0, i])\n",
    "    im = ax.imshow(patterns[i].reshape(8, 8), cmap=cmap, interpolation=interpolation)\n",
    "    ax.set_title('Pattern ' + str(i))\n",
    "    ax.set_axis_off()\n",
    "\n",
    "\n",
    "ax10 = fig.add_subplot(gs[1:, 0:(number_of_patterns/2)])\n",
    "im10 = ax10.imshow(initial_image, cmap=cmap, interpolation=interpolation)\n",
    "ax10.set_title('Initial Image')\n",
    "ax10.set_axis_off()\n",
    "\n",
    "\n",
    "ax11 = fig.add_subplot(gs[1:, (number_of_patterns/2):])\n",
    "im11 = ax11.imshow(final_image, cmap=cmap, interpolation=interpolation)\n",
    "ax11.set_title('Final image')\n",
    "ax11.set_axis_off()\n",
    "\n",
    "fig.subplots_adjust(right=0.8)\n",
    "cbar_ax = fig.add_axes([0.85, 0.15, 0.05, 0.7])\n",
    "cb = fig.colorbar(im11, cax=cbar_ax)"
   ]
  },
  {
   "cell_type": "markdown",
   "metadata": {},
   "source": [
    "We see that the image starts with mostly noise but converges to one of the patterns that we stored."
   ]
  },
  {
   "cell_type": "markdown",
   "metadata": {},
   "source": [
    "#### Returning git to original"
   ]
  },
  {
   "cell_type": "markdown",
   "metadata": {},
   "source": [
    "At the end we return to the original commit with git"
   ]
  },
  {
   "cell_type": "code",
   "execution_count": 15,
   "metadata": {
    "collapsed": false
   },
   "outputs": [
    {
     "data": {
      "text/plain": [
       "0"
      ]
     },
     "execution_count": 15,
     "metadata": {},
     "output_type": "execute_result"
    }
   ],
   "source": [
    "if run_old_version:\n",
    "    subprocess.call(['git', 'checkout', 'master'])"
   ]
  }
 ],
 "metadata": {
  "kernelspec": {
   "display_name": "Python [default]",
   "language": "python",
   "name": "python2"
  },
  "language_info": {
   "codemirror_mode": {
    "name": "ipython",
    "version": 2
   },
   "file_extension": ".py",
   "mimetype": "text/x-python",
   "name": "python",
   "nbconvert_exporter": "python",
   "pygments_lexer": "ipython2",
   "version": "2.7.12"
  }
 },
 "nbformat": 4,
 "nbformat_minor": 0
}
