{
 "cells": [
  {
   "cell_type": "markdown",
   "metadata": {},
   "source": [
    "# Excitation - Inhibition Success Range "
   ]
  },
  {
   "cell_type": "code",
   "execution_count": 2,
   "metadata": {
    "collapsed": true
   },
   "outputs": [],
   "source": [
    "import pprint\n",
    "import subprocess\n",
    "import sys \n",
    "sys.path.append('../')\n",
    "\n",
    "import numpy as np\n",
    "import matplotlib.pyplot as plt\n",
    "import matplotlib\n",
    "import matplotlib.gridspec as gridspec\n",
    "from mpl_toolkits.axes_grid1 import make_axes_locatable\n",
    "import seaborn as sns\n",
    "\n",
    "%matplotlib inline\n",
    "\n",
    "np.set_printoptions(suppress=True, precision=2)\n",
    "\n",
    "sns.set(font_scale=2.0)"
   ]
  },
  {
   "cell_type": "markdown",
   "metadata": {},
   "source": [
    "#### Git machinery"
   ]
  },
  {
   "cell_type": "code",
   "execution_count": 3,
   "metadata": {
    "collapsed": true
   },
   "outputs": [],
   "source": [
    "run_old_version = False\n",
    "if run_old_version:\n",
    "    hash_when_file_was_written = 'efa0a27d18c333fb9be5ffaf957cadd91cd66505'\n",
    "    hash_at_the_moment = subprocess.check_output([\"git\", 'rev-parse', 'HEAD']).strip()\n",
    "    print('Actual hash', hash_at_the_moment)\n",
    "    \n",
    "    print('Hash of the commit used to run the simulation', hash_when_file_was_written)\n",
    "    subprocess.call(['git', 'checkout', hash_when_file_was_written])"
   ]
  },
  {
   "cell_type": "code",
   "execution_count": 4,
   "metadata": {
    "collapsed": true
   },
   "outputs": [],
   "source": [
    "from network import Protocol, BCPNNFast, NetworkManager\n",
    "from analysis_functions import calculate_recall_success_sequences\n",
    "from connectivity_functions import create_artificial_manager "
   ]
  },
  {
   "cell_type": "markdown",
   "metadata": {},
   "source": [
    "## Excitation - Inhibtion Range"
   ]
  },
  {
   "cell_type": "code",
   "execution_count": 5,
   "metadata": {
    "collapsed": true
   },
   "outputs": [],
   "source": [
    "# Patterns parameters\n",
    "hypercolumns = 4\n",
    "minicolumns = 30\n",
    "n_patterns = 10\n",
    "\n",
    "dt = 0.001\n",
    "\n",
    "\n",
    "beta = False\n",
    "value = 3\n",
    "inhibition = -1.0\n",
    "extension = 2\n",
    "decay_factor = 0.1\n",
    "sequence_decay = 0.0\n",
    "ampa = True\n",
    "\n",
    "\n",
    "tau_z_pre = 0.150\n",
    "g_w = 1.0\n",
    "g_w_ampa = 1.0\n",
    "g_a = 97.0\n",
    "\n",
    "T_recall = 5.0\n",
    "T_cue = 0.100\n",
    "n = 10"
   ]
  },
  {
   "cell_type": "code",
   "execution_count": 6,
   "metadata": {
    "collapsed": false
   },
   "outputs": [
    {
     "name": "stdout",
     "output_type": "stream",
     "text": [
      "0\n",
      "1\n",
      "2\n",
      "3\n",
      "4\n",
      "5\n",
      "6\n",
      "7\n",
      "8\n",
      "9\n",
      "10\n",
      "11\n"
     ]
    }
   ],
   "source": [
    "sequences = [[i for i in range(n_patterns)]]\n",
    "\n",
    "excitation_range = np.arange(1, 36, 3)\n",
    "inhibition_range = np.arange(1, 12, 1)\n",
    "\n",
    "success_matrix = np.zeros((excitation_range.size, inhibition_range.size))\n",
    "\n",
    "for value_index, value in enumerate(excitation_range):\n",
    "    print(value_index)\n",
    "    for inhibition_index, inhibition in enumerate(inhibition_range):\n",
    "\n",
    "        manager = create_artificial_manager(hypercolumns, minicolumns, sequences, value, inhibition, extension, decay_factor,\n",
    "                                            sequence_decay, dt, BCPNNFast, NetworkManager, ampa, beta)\n",
    "\n",
    "        success = calculate_recall_success_sequences(manager, T_recall, T_cue, n, sequences)[0]\n",
    "        success_matrix[value_index, inhibition_index] = success\n"
   ]
  },
  {
   "cell_type": "code",
   "execution_count": 7,
   "metadata": {
    "collapsed": false
   },
   "outputs": [
    {
     "data": {
      "image/png": "[encoded data removed]",
      "text/plain": [
       "<matplotlib.figure.Figure at 0x7f50de37c910>"
      ]
     },
     "metadata": {},
     "output_type": "display_data"
    }
   ],
   "source": [
    "fig = plt.figure(figsize=(16, 12))\n",
    "ax = fig.add_subplot(111)\n",
    "\n",
    "cmap = 'inferno'\n",
    "\n",
    "extent = [inhibition_range[0], inhibition_range[-1], excitation_range[0], excitation_range[-1]]\n",
    "im = ax.imshow(success_matrix, origin='lower', cmap=cmap, interpolation='None', extent=extent, aspect='auto')\n",
    "# im = ax.imshow(success_matrix, origin='lower', cmap=cmap, interpolation='None', aspect='auto')\n",
    "\n",
    "ax.set_xlabel('Inhibition Range')\n",
    "ax.set_ylabel('Excitation Range')\n",
    "\n",
    "ax.grid()\n",
    "\n",
    "divider1 = make_axes_locatable(ax)\n",
    "cax1 = divider1.append_axes('right', size='5%', pad=0.05)\n",
    "fig.colorbar(im, cax=cax1, orientation='vertical');"
   ]
  },
  {
   "cell_type": "code",
   "execution_count": null,
   "metadata": {
    "collapsed": true
   },
   "outputs": [],
   "source": []
  },
  {
   "cell_type": "markdown",
   "metadata": {},
   "source": [
    "#### Git machinery"
   ]
  },
  {
   "cell_type": "code",
   "execution_count": null,
   "metadata": {
    "collapsed": true
   },
   "outputs": [],
   "source": [
    "if run_old_version:\n",
    "    subprocess.call(['git', 'checkout', 'master'])"
   ]
  }
 ],
 "metadata": {
  "anaconda-cloud": {},
  "kernelspec": {
   "display_name": "Python [conda root]",
   "language": "python",
   "name": "conda-root-py"
  },
  "language_info": {
   "codemirror_mode": {
    "name": "ipython",
    "version": 2
   },
   "file_extension": ".py",
   "mimetype": "text/x-python",
   "name": "python",
   "nbconvert_exporter": "python",
   "pygments_lexer": "ipython2",
   "version": "2.7.12"
  }
 },
 "nbformat": 4,
 "nbformat_minor": 0
}
