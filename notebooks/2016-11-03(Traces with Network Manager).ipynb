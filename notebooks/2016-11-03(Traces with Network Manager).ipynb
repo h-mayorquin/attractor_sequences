{
 "cells": [
  {
   "cell_type": "markdown",
   "metadata": {},
   "source": [
    "# Traces with network manager\n",
    "This notebook just illustrates the role of the time constants in the traces and furthermore works as a function test of the new class. The network manager."
   ]
  },
  {
   "cell_type": "code",
   "execution_count": 1,
   "metadata": {
    "collapsed": true
   },
   "outputs": [],
   "source": [
    "from __future__ import print_function\n",
    "import pprint\n",
    "import subprocess\n",
    "import sys \n",
    "sys.path.append('../')\n",
    "\n",
    "import numpy as np\n",
    "import matplotlib\n",
    "import matplotlib.pyplot as plt\n",
    "import matplotlib.gridspec as gridspec\n",
    "from mpl_toolkits.axes_grid1 import make_axes_locatable\n",
    "\n",
    "from network import BCPNN, NetworkManager\n",
    "from data_transformer import build_ortogonal_patterns\n",
    "from analysis_functions import calculate_angle_from_history\n",
    "from analysis_functions import calculate_winning_pattern_from_distances, calculate_patterns_timings\n",
    "\n",
    "%matplotlib inline\n",
    "matplotlib.rcParams.update({'font.size': 22})\n",
    "\n",
    "np.set_printoptions(suppress=True, precision=2)"
   ]
  },
  {
   "cell_type": "code",
   "execution_count": null,
   "metadata": {
    "collapsed": true
   },
   "outputs": [],
   "source": [
    "run_old_version = False\n",
    "if run_old_version:\n",
    "    hash_when_file_was_written = 'bb3e2db5733040a57f083206ad03fb83b1605c2a'\n",
    "    hash_at_the_moment = subprocess.check_output([\"git\", 'rev-parse', 'HEAD']).strip()\n",
    "    print('Actual hash', hash_at_the_moment)\n",
    "    print('Hash of the commit used to run the simulation', hash_when_file_was_written)\n",
    "    subprocess.call(['git', 'checkout', hash_when_file_was_written])"
   ]
  },
  {
   "cell_type": "markdown",
   "metadata": {},
   "source": [
    "#### Network\n",
    "We build the patterns and the network"
   ]
  },
  {
   "cell_type": "code",
   "execution_count": 2,
   "metadata": {
    "collapsed": true
   },
   "outputs": [],
   "source": [
    "hypercolumns = 2\n",
    "minicolumns = 5\n",
    "n_patterns = 3  # Number of patterns\n",
    "\n",
    "patterns_dic = build_ortogonal_patterns(hypercolumns, minicolumns)\n",
    "patterns = list(patterns_dic.values())\n",
    "patterns = patterns[:n_patterns]\n",
    "\n",
    "# Build the network\n",
    "tau_z_pre = 0.500\n",
    "tau_z_post = 0.050\n",
    "\n",
    "nn = BCPNN(hypercolumns, minicolumns, tau_z_post=tau_z_post, tau_z_pre=tau_z_pre)\n",
    "nn.randomize_pattern()"
   ]
  },
  {
   "cell_type": "markdown",
   "metadata": {},
   "source": [
    "Now we build the network manager and run the model in training mode with the patterns that we already build"
   ]
  },
  {
   "cell_type": "code",
   "execution_count": 3,
   "metadata": {
    "collapsed": false
   },
   "outputs": [
    {
     "name": "stdout",
     "output_type": "stream",
     "text": [
      "trained\n",
      "trained\n",
      "trained\n"
     ]
    }
   ],
   "source": [
    "dt = 0.001\n",
    "T_training = 2.0\n",
    "training_time = np.arange(0, T_training + dt, dt)\n",
    "values_to_save = ['o', 'z_pre', 'z_post', 'a']\n",
    "manager = NetworkManager(nn=nn, time=training_time, values_to_save=values_to_save)\n",
    "\n",
    "for pattern in patterns:\n",
    "    nn.k = 1.0\n",
    "    print('trained')\n",
    "    # history = nn.run_network_simulation(time=training_time, I=pattern, save=True)\n",
    "    manager.run_network(time=training_time, I=pattern)\n",
    "    manager.run_network(time=training_time)"
   ]
  },
  {
   "cell_type": "markdown",
   "metadata": {},
   "source": [
    "#### Plots\n",
    "We extract the information and plot the different "
   ]
  }
 ],
 "metadata": {
  "anaconda-cloud": {},
  "kernelspec": {
   "display_name": "Python [conda root]",
   "language": "python",
   "name": "conda-root-py"
  },
  "language_info": {
   "codemirror_mode": {
    "name": "ipython",
    "version": 2
   },
   "file_extension": ".py",
   "mimetype": "text/x-python",
   "name": "python",
   "nbconvert_exporter": "python",
   "pygments_lexer": "ipython2",
   "version": "2.7.12"
  }
 },
 "nbformat": 4,
 "nbformat_minor": 0
}
